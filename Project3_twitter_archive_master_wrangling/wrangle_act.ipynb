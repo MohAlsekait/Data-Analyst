{
 "cells": [
  {
   "cell_type": "markdown",
   "metadata": {
    "extensions": {
     "jupyter_dashboards": {
      "version": 1,
      "views": {
       "grid_default": {
        "col": 0,
        "height": 4,
        "hidden": false,
        "row": 0,
        "width": 4
       },
       "report_default": {
        "hidden": false
       }
      }
     }
    }
   },
   "source": [
    "# Project: Wrangling and Analyze Data"
   ]
  },
  {
   "cell_type": "code",
   "execution_count": 8,
   "metadata": {},
   "outputs": [],
   "source": [
    "import requests\n",
    "import numpy as np\n",
    "import pandas as pd\n",
    "import tweepy\n",
    "import json\n",
    "import matplotlib.pyplot as plt\n",
    "import seaborn as sns\n",
    "import re\n",
    "from tweepy import OAuthHandler\n",
    "from datetime import datetime\n",
    "from functools import reduce\n",
    "from timeit import default_timer as timer"
   ]
  },
  {
   "cell_type": "code",
   "execution_count": 9,
   "metadata": {},
   "outputs": [
    {
     "name": "stdout",
     "output_type": "stream",
     "text": [
      "Requirement already satisfied: tweepy in c:\\users\\user\\anaconda3\\lib\\site-packages (4.12.1)Note: you may need to restart the kernel to use updated packages.\n",
      "\n",
      "Requirement already satisfied: requests<3,>=2.27.0 in c:\\users\\user\\anaconda3\\lib\\site-packages (from tweepy) (2.27.1)\n",
      "Requirement already satisfied: oauthlib<4,>=3.2.0 in c:\\users\\user\\anaconda3\\lib\\site-packages (from tweepy) (3.2.2)\n",
      "Requirement already satisfied: requests-oauthlib<2,>=1.2.0 in c:\\users\\user\\anaconda3\\lib\\site-packages (from tweepy) (1.3.1)\n",
      "Requirement already satisfied: urllib3<1.27,>=1.21.1 in c:\\users\\user\\anaconda3\\lib\\site-packages (from requests<3,>=2.27.0->tweepy) (1.26.9)\n",
      "Requirement already satisfied: charset-normalizer~=2.0.0 in c:\\users\\user\\anaconda3\\lib\\site-packages (from requests<3,>=2.27.0->tweepy) (2.0.4)\n",
      "Requirement already satisfied: certifi>=2017.4.17 in c:\\users\\user\\anaconda3\\lib\\site-packages (from requests<3,>=2.27.0->tweepy) (2021.10.8)\n",
      "Requirement already satisfied: idna<4,>=2.5 in c:\\users\\user\\anaconda3\\lib\\site-packages (from requests<3,>=2.27.0->tweepy) (3.3)\n"
     ]
    }
   ],
   "source": [
    "pip install tweepy"
   ]
  },
  {
   "cell_type": "markdown",
   "metadata": {},
   "source": [
    "# Data Gathering\n",
    "In the cell below, gather **all** three pieces of data for this project and load them in the notebook. **Note:** the methods required to gather each data are different.\n",
    "1. Directly download the WeRateDogs Twitter archive data (twitter_archive_enhanced.csv)"
   ]
  },
  {
   "cell_type": "code",
   "execution_count": 10,
   "metadata": {
    "extensions": {
     "jupyter_dashboards": {
      "version": 1,
      "views": {
       "grid_default": {
        "hidden": true
       },
       "report_default": {
        "hidden": true
       }
      }
     }
    }
   },
   "outputs": [
    {
     "data": {
      "text/html": [
       "<div>\n",
       "<style scoped>\n",
       "    .dataframe tbody tr th:only-of-type {\n",
       "        vertical-align: middle;\n",
       "    }\n",
       "\n",
       "    .dataframe tbody tr th {\n",
       "        vertical-align: top;\n",
       "    }\n",
       "\n",
       "    .dataframe thead th {\n",
       "        text-align: right;\n",
       "    }\n",
       "</style>\n",
       "<table border=\"1\" class=\"dataframe\">\n",
       "  <thead>\n",
       "    <tr style=\"text-align: right;\">\n",
       "      <th></th>\n",
       "      <th>tweet_id</th>\n",
       "      <th>in_reply_to_status_id</th>\n",
       "      <th>in_reply_to_user_id</th>\n",
       "      <th>timestamp</th>\n",
       "      <th>source</th>\n",
       "      <th>text</th>\n",
       "      <th>retweeted_status_id</th>\n",
       "      <th>retweeted_status_user_id</th>\n",
       "      <th>retweeted_status_timestamp</th>\n",
       "      <th>expanded_urls</th>\n",
       "      <th>rating_numerator</th>\n",
       "      <th>rating_denominator</th>\n",
       "      <th>name</th>\n",
       "      <th>doggo</th>\n",
       "      <th>floofer</th>\n",
       "      <th>pupper</th>\n",
       "      <th>puppo</th>\n",
       "    </tr>\n",
       "  </thead>\n",
       "  <tbody>\n",
       "    <tr>\n",
       "      <th>0</th>\n",
       "      <td>892420643555336193</td>\n",
       "      <td>NaN</td>\n",
       "      <td>NaN</td>\n",
       "      <td>2017-08-01 16:23:56 +0000</td>\n",
       "      <td>&lt;a href=\"http://twitter.com/download/iphone\" r...</td>\n",
       "      <td>This is Phineas. He's a mystical boy. Only eve...</td>\n",
       "      <td>NaN</td>\n",
       "      <td>NaN</td>\n",
       "      <td>NaN</td>\n",
       "      <td>https://twitter.com/dog_rates/status/892420643...</td>\n",
       "      <td>13</td>\n",
       "      <td>10</td>\n",
       "      <td>Phineas</td>\n",
       "      <td>None</td>\n",
       "      <td>None</td>\n",
       "      <td>None</td>\n",
       "      <td>None</td>\n",
       "    </tr>\n",
       "    <tr>\n",
       "      <th>1</th>\n",
       "      <td>892177421306343426</td>\n",
       "      <td>NaN</td>\n",
       "      <td>NaN</td>\n",
       "      <td>2017-08-01 00:17:27 +0000</td>\n",
       "      <td>&lt;a href=\"http://twitter.com/download/iphone\" r...</td>\n",
       "      <td>This is Tilly. She's just checking pup on you....</td>\n",
       "      <td>NaN</td>\n",
       "      <td>NaN</td>\n",
       "      <td>NaN</td>\n",
       "      <td>https://twitter.com/dog_rates/status/892177421...</td>\n",
       "      <td>13</td>\n",
       "      <td>10</td>\n",
       "      <td>Tilly</td>\n",
       "      <td>None</td>\n",
       "      <td>None</td>\n",
       "      <td>None</td>\n",
       "      <td>None</td>\n",
       "    </tr>\n",
       "    <tr>\n",
       "      <th>2</th>\n",
       "      <td>891815181378084864</td>\n",
       "      <td>NaN</td>\n",
       "      <td>NaN</td>\n",
       "      <td>2017-07-31 00:18:03 +0000</td>\n",
       "      <td>&lt;a href=\"http://twitter.com/download/iphone\" r...</td>\n",
       "      <td>This is Archie. He is a rare Norwegian Pouncin...</td>\n",
       "      <td>NaN</td>\n",
       "      <td>NaN</td>\n",
       "      <td>NaN</td>\n",
       "      <td>https://twitter.com/dog_rates/status/891815181...</td>\n",
       "      <td>12</td>\n",
       "      <td>10</td>\n",
       "      <td>Archie</td>\n",
       "      <td>None</td>\n",
       "      <td>None</td>\n",
       "      <td>None</td>\n",
       "      <td>None</td>\n",
       "    </tr>\n",
       "    <tr>\n",
       "      <th>3</th>\n",
       "      <td>891689557279858688</td>\n",
       "      <td>NaN</td>\n",
       "      <td>NaN</td>\n",
       "      <td>2017-07-30 15:58:51 +0000</td>\n",
       "      <td>&lt;a href=\"http://twitter.com/download/iphone\" r...</td>\n",
       "      <td>This is Darla. She commenced a snooze mid meal...</td>\n",
       "      <td>NaN</td>\n",
       "      <td>NaN</td>\n",
       "      <td>NaN</td>\n",
       "      <td>https://twitter.com/dog_rates/status/891689557...</td>\n",
       "      <td>13</td>\n",
       "      <td>10</td>\n",
       "      <td>Darla</td>\n",
       "      <td>None</td>\n",
       "      <td>None</td>\n",
       "      <td>None</td>\n",
       "      <td>None</td>\n",
       "    </tr>\n",
       "    <tr>\n",
       "      <th>4</th>\n",
       "      <td>891327558926688256</td>\n",
       "      <td>NaN</td>\n",
       "      <td>NaN</td>\n",
       "      <td>2017-07-29 16:00:24 +0000</td>\n",
       "      <td>&lt;a href=\"http://twitter.com/download/iphone\" r...</td>\n",
       "      <td>This is Franklin. He would like you to stop ca...</td>\n",
       "      <td>NaN</td>\n",
       "      <td>NaN</td>\n",
       "      <td>NaN</td>\n",
       "      <td>https://twitter.com/dog_rates/status/891327558...</td>\n",
       "      <td>12</td>\n",
       "      <td>10</td>\n",
       "      <td>Franklin</td>\n",
       "      <td>None</td>\n",
       "      <td>None</td>\n",
       "      <td>None</td>\n",
       "      <td>None</td>\n",
       "    </tr>\n",
       "  </tbody>\n",
       "</table>\n",
       "</div>"
      ],
      "text/plain": [
       "             tweet_id  in_reply_to_status_id  in_reply_to_user_id  \\\n",
       "0  892420643555336193                    NaN                  NaN   \n",
       "1  892177421306343426                    NaN                  NaN   \n",
       "2  891815181378084864                    NaN                  NaN   \n",
       "3  891689557279858688                    NaN                  NaN   \n",
       "4  891327558926688256                    NaN                  NaN   \n",
       "\n",
       "                   timestamp  \\\n",
       "0  2017-08-01 16:23:56 +0000   \n",
       "1  2017-08-01 00:17:27 +0000   \n",
       "2  2017-07-31 00:18:03 +0000   \n",
       "3  2017-07-30 15:58:51 +0000   \n",
       "4  2017-07-29 16:00:24 +0000   \n",
       "\n",
       "                                              source  \\\n",
       "0  <a href=\"http://twitter.com/download/iphone\" r...   \n",
       "1  <a href=\"http://twitter.com/download/iphone\" r...   \n",
       "2  <a href=\"http://twitter.com/download/iphone\" r...   \n",
       "3  <a href=\"http://twitter.com/download/iphone\" r...   \n",
       "4  <a href=\"http://twitter.com/download/iphone\" r...   \n",
       "\n",
       "                                                text  retweeted_status_id  \\\n",
       "0  This is Phineas. He's a mystical boy. Only eve...                  NaN   \n",
       "1  This is Tilly. She's just checking pup on you....                  NaN   \n",
       "2  This is Archie. He is a rare Norwegian Pouncin...                  NaN   \n",
       "3  This is Darla. She commenced a snooze mid meal...                  NaN   \n",
       "4  This is Franklin. He would like you to stop ca...                  NaN   \n",
       "\n",
       "   retweeted_status_user_id retweeted_status_timestamp  \\\n",
       "0                       NaN                        NaN   \n",
       "1                       NaN                        NaN   \n",
       "2                       NaN                        NaN   \n",
       "3                       NaN                        NaN   \n",
       "4                       NaN                        NaN   \n",
       "\n",
       "                                       expanded_urls  rating_numerator  \\\n",
       "0  https://twitter.com/dog_rates/status/892420643...                13   \n",
       "1  https://twitter.com/dog_rates/status/892177421...                13   \n",
       "2  https://twitter.com/dog_rates/status/891815181...                12   \n",
       "3  https://twitter.com/dog_rates/status/891689557...                13   \n",
       "4  https://twitter.com/dog_rates/status/891327558...                12   \n",
       "\n",
       "   rating_denominator      name doggo floofer pupper puppo  \n",
       "0                  10   Phineas  None    None   None  None  \n",
       "1                  10     Tilly  None    None   None  None  \n",
       "2                  10    Archie  None    None   None  None  \n",
       "3                  10     Darla  None    None   None  None  \n",
       "4                  10  Franklin  None    None   None  None  "
      ]
     },
     "execution_count": 10,
     "metadata": {},
     "output_type": "execute_result"
    }
   ],
   "source": [
    "twitter_archive_df= pd.read_csv(\"twitter-archive-enhanced-2.csv\")\n",
    "\n",
    "twitter_archive_df.head(5)"
   ]
  },
  {
   "cell_type": "markdown",
   "metadata": {},
   "source": [
    "2. Use the Requests library to download the tweet image prediction (image_predictions.tsv)"
   ]
  },
  {
   "cell_type": "code",
   "execution_count": 11,
   "metadata": {},
   "outputs": [
    {
     "data": {
      "text/html": [
       "<div>\n",
       "<style scoped>\n",
       "    .dataframe tbody tr th:only-of-type {\n",
       "        vertical-align: middle;\n",
       "    }\n",
       "\n",
       "    .dataframe tbody tr th {\n",
       "        vertical-align: top;\n",
       "    }\n",
       "\n",
       "    .dataframe thead th {\n",
       "        text-align: right;\n",
       "    }\n",
       "</style>\n",
       "<table border=\"1\" class=\"dataframe\">\n",
       "  <thead>\n",
       "    <tr style=\"text-align: right;\">\n",
       "      <th></th>\n",
       "      <th>tweet_id</th>\n",
       "      <th>jpg_url</th>\n",
       "      <th>img_num</th>\n",
       "      <th>p1</th>\n",
       "      <th>p1_conf</th>\n",
       "      <th>p1_dog</th>\n",
       "      <th>p2</th>\n",
       "      <th>p2_conf</th>\n",
       "      <th>p2_dog</th>\n",
       "      <th>p3</th>\n",
       "      <th>p3_conf</th>\n",
       "      <th>p3_dog</th>\n",
       "    </tr>\n",
       "  </thead>\n",
       "  <tbody>\n",
       "    <tr>\n",
       "      <th>0</th>\n",
       "      <td>666020888022790149</td>\n",
       "      <td>https://pbs.twimg.com/media/CT4udn0WwAA0aMy.jpg</td>\n",
       "      <td>1</td>\n",
       "      <td>Welsh_springer_spaniel</td>\n",
       "      <td>0.465074</td>\n",
       "      <td>True</td>\n",
       "      <td>collie</td>\n",
       "      <td>0.156665</td>\n",
       "      <td>True</td>\n",
       "      <td>Shetland_sheepdog</td>\n",
       "      <td>0.061428</td>\n",
       "      <td>True</td>\n",
       "    </tr>\n",
       "    <tr>\n",
       "      <th>1</th>\n",
       "      <td>666029285002620928</td>\n",
       "      <td>https://pbs.twimg.com/media/CT42GRgUYAA5iDo.jpg</td>\n",
       "      <td>1</td>\n",
       "      <td>redbone</td>\n",
       "      <td>0.506826</td>\n",
       "      <td>True</td>\n",
       "      <td>miniature_pinscher</td>\n",
       "      <td>0.074192</td>\n",
       "      <td>True</td>\n",
       "      <td>Rhodesian_ridgeback</td>\n",
       "      <td>0.072010</td>\n",
       "      <td>True</td>\n",
       "    </tr>\n",
       "    <tr>\n",
       "      <th>2</th>\n",
       "      <td>666033412701032449</td>\n",
       "      <td>https://pbs.twimg.com/media/CT4521TWwAEvMyu.jpg</td>\n",
       "      <td>1</td>\n",
       "      <td>German_shepherd</td>\n",
       "      <td>0.596461</td>\n",
       "      <td>True</td>\n",
       "      <td>malinois</td>\n",
       "      <td>0.138584</td>\n",
       "      <td>True</td>\n",
       "      <td>bloodhound</td>\n",
       "      <td>0.116197</td>\n",
       "      <td>True</td>\n",
       "    </tr>\n",
       "    <tr>\n",
       "      <th>3</th>\n",
       "      <td>666044226329800704</td>\n",
       "      <td>https://pbs.twimg.com/media/CT5Dr8HUEAA-lEu.jpg</td>\n",
       "      <td>1</td>\n",
       "      <td>Rhodesian_ridgeback</td>\n",
       "      <td>0.408143</td>\n",
       "      <td>True</td>\n",
       "      <td>redbone</td>\n",
       "      <td>0.360687</td>\n",
       "      <td>True</td>\n",
       "      <td>miniature_pinscher</td>\n",
       "      <td>0.222752</td>\n",
       "      <td>True</td>\n",
       "    </tr>\n",
       "    <tr>\n",
       "      <th>4</th>\n",
       "      <td>666049248165822465</td>\n",
       "      <td>https://pbs.twimg.com/media/CT5IQmsXIAAKY4A.jpg</td>\n",
       "      <td>1</td>\n",
       "      <td>miniature_pinscher</td>\n",
       "      <td>0.560311</td>\n",
       "      <td>True</td>\n",
       "      <td>Rottweiler</td>\n",
       "      <td>0.243682</td>\n",
       "      <td>True</td>\n",
       "      <td>Doberman</td>\n",
       "      <td>0.154629</td>\n",
       "      <td>True</td>\n",
       "    </tr>\n",
       "  </tbody>\n",
       "</table>\n",
       "</div>"
      ],
      "text/plain": [
       "             tweet_id                                          jpg_url  \\\n",
       "0  666020888022790149  https://pbs.twimg.com/media/CT4udn0WwAA0aMy.jpg   \n",
       "1  666029285002620928  https://pbs.twimg.com/media/CT42GRgUYAA5iDo.jpg   \n",
       "2  666033412701032449  https://pbs.twimg.com/media/CT4521TWwAEvMyu.jpg   \n",
       "3  666044226329800704  https://pbs.twimg.com/media/CT5Dr8HUEAA-lEu.jpg   \n",
       "4  666049248165822465  https://pbs.twimg.com/media/CT5IQmsXIAAKY4A.jpg   \n",
       "\n",
       "   img_num                      p1   p1_conf  p1_dog                  p2  \\\n",
       "0        1  Welsh_springer_spaniel  0.465074    True              collie   \n",
       "1        1                 redbone  0.506826    True  miniature_pinscher   \n",
       "2        1         German_shepherd  0.596461    True            malinois   \n",
       "3        1     Rhodesian_ridgeback  0.408143    True             redbone   \n",
       "4        1      miniature_pinscher  0.560311    True          Rottweiler   \n",
       "\n",
       "    p2_conf  p2_dog                   p3   p3_conf  p3_dog  \n",
       "0  0.156665    True    Shetland_sheepdog  0.061428    True  \n",
       "1  0.074192    True  Rhodesian_ridgeback  0.072010    True  \n",
       "2  0.138584    True           bloodhound  0.116197    True  \n",
       "3  0.360687    True   miniature_pinscher  0.222752    True  \n",
       "4  0.243682    True             Doberman  0.154629    True  "
      ]
     },
     "execution_count": 11,
     "metadata": {},
     "output_type": "execute_result"
    }
   ],
   "source": [
    "url = \"https://d17h27t6h515a5.cloudfront.net/topher/2017/August/599fd2ad_image-predictions/image-predictions.tsv\"\n",
    "\n",
    "response = requests.get(url)\n",
    "\n",
    "with open(\"image_predictions-3.tsv\", mode = \"wb\") as file:\n",
    "    file.write(response.content)\n",
    "    \n",
    "    \n",
    "image_predictions_df = pd.read_csv('image-predictions-3.tsv', sep='\\t')\n",
    "image_predictions_df.head()    "
   ]
  },
  {
   "cell_type": "markdown",
   "metadata": {},
   "source": [
    "3. Use the Tweepy library to query additional data via the Twitter API (tweet_json.txt)"
   ]
  },
  {
   "cell_type": "code",
   "execution_count": 12,
   "metadata": {},
   "outputs": [
    {
     "data": {
      "text/plain": [
       "<tweepy.api.API at 0x210b2208490>"
      ]
     },
     "execution_count": 12,
     "metadata": {},
     "output_type": "execute_result"
    }
   ],
   "source": [
    "#keys and token to access the API\n",
    "consumer_key = 'HIDDEN'\n",
    "consumer_secret = 'HIDDEN'\n",
    "access_token = 'HIDDEN'\n",
    "access_secret = 'HIDDEN'\n",
    "\n",
    "#access the API\n",
    "auth = tweepy.OAuthHandler(consumer_key, consumer_secret)\n",
    "auth.set_access_token(access_token, access_secret)\n",
    "\n",
    "api = tweepy.API(auth, wait_on_rate_limit=True)\n",
    "api"
   ]
  },
  {
   "cell_type": "code",
   "execution_count": 13,
   "metadata": {},
   "outputs": [
    {
     "data": {
      "text/html": [
       "<div>\n",
       "<style scoped>\n",
       "    .dataframe tbody tr th:only-of-type {\n",
       "        vertical-align: middle;\n",
       "    }\n",
       "\n",
       "    .dataframe tbody tr th {\n",
       "        vertical-align: top;\n",
       "    }\n",
       "\n",
       "    .dataframe thead th {\n",
       "        text-align: right;\n",
       "    }\n",
       "</style>\n",
       "<table border=\"1\" class=\"dataframe\">\n",
       "  <thead>\n",
       "    <tr style=\"text-align: right;\">\n",
       "      <th></th>\n",
       "      <th>tweet_id</th>\n",
       "      <th>retweets</th>\n",
       "      <th>favorites</th>\n",
       "    </tr>\n",
       "  </thead>\n",
       "  <tbody>\n",
       "    <tr>\n",
       "      <th>0</th>\n",
       "      <td>892420643555336193</td>\n",
       "      <td>8853</td>\n",
       "      <td>39467</td>\n",
       "    </tr>\n",
       "    <tr>\n",
       "      <th>1</th>\n",
       "      <td>892177421306343426</td>\n",
       "      <td>6514</td>\n",
       "      <td>33819</td>\n",
       "    </tr>\n",
       "    <tr>\n",
       "      <th>2</th>\n",
       "      <td>891815181378084864</td>\n",
       "      <td>4328</td>\n",
       "      <td>25461</td>\n",
       "    </tr>\n",
       "    <tr>\n",
       "      <th>3</th>\n",
       "      <td>891689557279858688</td>\n",
       "      <td>8964</td>\n",
       "      <td>42908</td>\n",
       "    </tr>\n",
       "    <tr>\n",
       "      <th>4</th>\n",
       "      <td>891327558926688256</td>\n",
       "      <td>9774</td>\n",
       "      <td>41048</td>\n",
       "    </tr>\n",
       "  </tbody>\n",
       "</table>\n",
       "</div>"
      ],
      "text/plain": [
       "             tweet_id  retweets  favorites\n",
       "0  892420643555336193      8853      39467\n",
       "1  892177421306343426      6514      33819\n",
       "2  891815181378084864      4328      25461\n",
       "3  891689557279858688      8964      42908\n",
       "4  891327558926688256      9774      41048"
      ]
     },
     "execution_count": 13,
     "metadata": {},
     "output_type": "execute_result"
    }
   ],
   "source": [
    "data = []\n",
    "\n",
    "with open(\"tweet_json.txt\", \"r\") as file:\n",
    "    for line in file:\n",
    "        tweets_data = json.loads(line)\n",
    "        data.append({\n",
    "                \"tweet_id\": tweets_data[\"id\"],\n",
    "                \"retweets\": tweets_data[\"retweet_count\"],\n",
    "                \"favorites\": tweets_data[\"favorite_count\"],               \n",
    "            })\n",
    "                        \n",
    "            \n",
    "tweets_df = pd.DataFrame(data, columns = [\"tweet_id\", \"retweets\", \"favorites\"])\n",
    "tweets_df.head()"
   ]
  },
  {
   "cell_type": "markdown",
   "metadata": {
    "extensions": {
     "jupyter_dashboards": {
      "version": 1,
      "views": {
       "grid_default": {
        "col": 4,
        "height": 4,
        "hidden": false,
        "row": 28,
        "width": 4
       },
       "report_default": {
        "hidden": false
       }
      }
     }
    }
   },
   "source": [
    "# Assessing Data\n",
    "In this section, detect and document at least **eight (8) quality issues and two (2) tidiness issue**. You must use **both** visual assessment\n",
    "programmatic assessement to assess the data.\n",
    "\n",
    "**Note:** pay attention to the following key points when you access the data.\n",
    "\n",
    "* You only want original ratings (no retweets) that have images. Though there are 5000+ tweets in the dataset, not all are dog ratings and some are retweets.\n",
    "* Assessing and cleaning the entire dataset completely would require a lot of time, and is not necessary to practice and demonstrate your skills in data wrangling. Therefore, the requirements of this project are only to assess and clean at least 8 quality issues and at least 2 tidiness issues in this dataset.\n",
    "* The fact that the rating numerators are greater than the denominators does not need to be cleaned. This [unique rating system](http://knowyourmeme.com/memes/theyre-good-dogs-brent) is a big part of the popularity of WeRateDogs.\n",
    "* You do not need to gather the tweets beyond August 1st, 2017. You can, but note that you won't be able to gather the image predictions for these tweets since you don't have access to the algorithm used.\n",
    "\n"
   ]
  },
  {
   "cell_type": "markdown",
   "metadata": {},
   "source": [
    "## Assessing twitter_archive_df:"
   ]
  },
  {
   "cell_type": "code",
   "execution_count": 14,
   "metadata": {},
   "outputs": [
    {
     "data": {
      "text/html": [
       "<div>\n",
       "<style scoped>\n",
       "    .dataframe tbody tr th:only-of-type {\n",
       "        vertical-align: middle;\n",
       "    }\n",
       "\n",
       "    .dataframe tbody tr th {\n",
       "        vertical-align: top;\n",
       "    }\n",
       "\n",
       "    .dataframe thead th {\n",
       "        text-align: right;\n",
       "    }\n",
       "</style>\n",
       "<table border=\"1\" class=\"dataframe\">\n",
       "  <thead>\n",
       "    <tr style=\"text-align: right;\">\n",
       "      <th></th>\n",
       "      <th>tweet_id</th>\n",
       "      <th>in_reply_to_status_id</th>\n",
       "      <th>in_reply_to_user_id</th>\n",
       "      <th>timestamp</th>\n",
       "      <th>source</th>\n",
       "      <th>text</th>\n",
       "      <th>retweeted_status_id</th>\n",
       "      <th>retweeted_status_user_id</th>\n",
       "      <th>retweeted_status_timestamp</th>\n",
       "      <th>expanded_urls</th>\n",
       "      <th>rating_numerator</th>\n",
       "      <th>rating_denominator</th>\n",
       "      <th>name</th>\n",
       "      <th>doggo</th>\n",
       "      <th>floofer</th>\n",
       "      <th>pupper</th>\n",
       "      <th>puppo</th>\n",
       "    </tr>\n",
       "  </thead>\n",
       "  <tbody>\n",
       "    <tr>\n",
       "      <th>1911</th>\n",
       "      <td>674410619106390016</td>\n",
       "      <td>NaN</td>\n",
       "      <td>NaN</td>\n",
       "      <td>2015-12-09 02:09:56 +0000</td>\n",
       "      <td>&lt;a href=\"http://twitter.com/download/iphone\" r...</td>\n",
       "      <td>This is Lenny. He wants to be a sprinkler. 10/...</td>\n",
       "      <td>NaN</td>\n",
       "      <td>NaN</td>\n",
       "      <td>NaN</td>\n",
       "      <td>https://twitter.com/dog_rates/status/674410619...</td>\n",
       "      <td>10</td>\n",
       "      <td>10</td>\n",
       "      <td>Lenny</td>\n",
       "      <td>None</td>\n",
       "      <td>None</td>\n",
       "      <td>None</td>\n",
       "      <td>None</td>\n",
       "    </tr>\n",
       "    <tr>\n",
       "      <th>2146</th>\n",
       "      <td>669923323644657664</td>\n",
       "      <td>NaN</td>\n",
       "      <td>NaN</td>\n",
       "      <td>2015-11-26 16:59:01 +0000</td>\n",
       "      <td>&lt;a href=\"http://twitter.com/download/iphone\" r...</td>\n",
       "      <td>This is a spotted Lipitor Rumpelstiltskin name...</td>\n",
       "      <td>NaN</td>\n",
       "      <td>NaN</td>\n",
       "      <td>NaN</td>\n",
       "      <td>https://twitter.com/dog_rates/status/669923323...</td>\n",
       "      <td>10</td>\n",
       "      <td>10</td>\n",
       "      <td>a</td>\n",
       "      <td>None</td>\n",
       "      <td>None</td>\n",
       "      <td>None</td>\n",
       "      <td>None</td>\n",
       "    </tr>\n",
       "    <tr>\n",
       "      <th>737</th>\n",
       "      <td>780858289093574656</td>\n",
       "      <td>NaN</td>\n",
       "      <td>NaN</td>\n",
       "      <td>2016-09-27 19:54:58 +0000</td>\n",
       "      <td>&lt;a href=\"http://twitter.com/download/iphone\" r...</td>\n",
       "      <td>This is Dash. He's very stylish, but also incr...</td>\n",
       "      <td>NaN</td>\n",
       "      <td>NaN</td>\n",
       "      <td>NaN</td>\n",
       "      <td>https://twitter.com/dog_rates/status/780858289...</td>\n",
       "      <td>10</td>\n",
       "      <td>10</td>\n",
       "      <td>Dash</td>\n",
       "      <td>None</td>\n",
       "      <td>None</td>\n",
       "      <td>None</td>\n",
       "      <td>None</td>\n",
       "    </tr>\n",
       "    <tr>\n",
       "      <th>952</th>\n",
       "      <td>751937170840121344</td>\n",
       "      <td>NaN</td>\n",
       "      <td>NaN</td>\n",
       "      <td>2016-07-10 00:32:46 +0000</td>\n",
       "      <td>&lt;a href=\"http://twitter.com/download/iphone\" r...</td>\n",
       "      <td>This is Ruby. Her ice cube is melting. She doe...</td>\n",
       "      <td>NaN</td>\n",
       "      <td>NaN</td>\n",
       "      <td>NaN</td>\n",
       "      <td>https://twitter.com/dog_rates/status/751937170...</td>\n",
       "      <td>11</td>\n",
       "      <td>10</td>\n",
       "      <td>Ruby</td>\n",
       "      <td>None</td>\n",
       "      <td>None</td>\n",
       "      <td>None</td>\n",
       "      <td>None</td>\n",
       "    </tr>\n",
       "    <tr>\n",
       "      <th>679</th>\n",
       "      <td>789137962068021249</td>\n",
       "      <td>NaN</td>\n",
       "      <td>NaN</td>\n",
       "      <td>2016-10-20 16:15:26 +0000</td>\n",
       "      <td>&lt;a href=\"http://twitter.com/download/iphone\" r...</td>\n",
       "      <td>This is Bo. He's a West Congolese Bugaboop Snu...</td>\n",
       "      <td>NaN</td>\n",
       "      <td>NaN</td>\n",
       "      <td>NaN</td>\n",
       "      <td>https://twitter.com/dog_rates/status/789137962...</td>\n",
       "      <td>12</td>\n",
       "      <td>10</td>\n",
       "      <td>Bo</td>\n",
       "      <td>None</td>\n",
       "      <td>None</td>\n",
       "      <td>None</td>\n",
       "      <td>None</td>\n",
       "    </tr>\n",
       "    <tr>\n",
       "      <th>1742</th>\n",
       "      <td>679462823135686656</td>\n",
       "      <td>NaN</td>\n",
       "      <td>NaN</td>\n",
       "      <td>2015-12-23 00:45:35 +0000</td>\n",
       "      <td>&lt;a href=\"http://twitter.com/download/iphone\" r...</td>\n",
       "      <td>Meet Hurley. He's the curly one. He hugs every...</td>\n",
       "      <td>NaN</td>\n",
       "      <td>NaN</td>\n",
       "      <td>NaN</td>\n",
       "      <td>https://twitter.com/dog_rates/status/679462823...</td>\n",
       "      <td>11</td>\n",
       "      <td>10</td>\n",
       "      <td>Hurley</td>\n",
       "      <td>None</td>\n",
       "      <td>None</td>\n",
       "      <td>None</td>\n",
       "      <td>None</td>\n",
       "    </tr>\n",
       "    <tr>\n",
       "      <th>1408</th>\n",
       "      <td>699072405256409088</td>\n",
       "      <td>NaN</td>\n",
       "      <td>NaN</td>\n",
       "      <td>2016-02-15 03:27:04 +0000</td>\n",
       "      <td>&lt;a href=\"http://twitter.com/download/iphone\" r...</td>\n",
       "      <td>ERMAHGERD 12/10 please enjoy https://t.co/7WrA...</td>\n",
       "      <td>NaN</td>\n",
       "      <td>NaN</td>\n",
       "      <td>NaN</td>\n",
       "      <td>https://twitter.com/dog_rates/status/699072405...</td>\n",
       "      <td>12</td>\n",
       "      <td>10</td>\n",
       "      <td>None</td>\n",
       "      <td>None</td>\n",
       "      <td>None</td>\n",
       "      <td>None</td>\n",
       "      <td>None</td>\n",
       "    </tr>\n",
       "    <tr>\n",
       "      <th>587</th>\n",
       "      <td>799757965289017345</td>\n",
       "      <td>NaN</td>\n",
       "      <td>NaN</td>\n",
       "      <td>2016-11-18 23:35:32 +0000</td>\n",
       "      <td>&lt;a href=\"http://twitter.com/download/iphone\" r...</td>\n",
       "      <td>This is Sobe. She's a h*ckin happy doggo. Only...</td>\n",
       "      <td>NaN</td>\n",
       "      <td>NaN</td>\n",
       "      <td>NaN</td>\n",
       "      <td>https://twitter.com/dog_rates/status/799757965...</td>\n",
       "      <td>13</td>\n",
       "      <td>10</td>\n",
       "      <td>Sobe</td>\n",
       "      <td>doggo</td>\n",
       "      <td>None</td>\n",
       "      <td>None</td>\n",
       "      <td>None</td>\n",
       "    </tr>\n",
       "  </tbody>\n",
       "</table>\n",
       "</div>"
      ],
      "text/plain": [
       "                tweet_id  in_reply_to_status_id  in_reply_to_user_id  \\\n",
       "1911  674410619106390016                    NaN                  NaN   \n",
       "2146  669923323644657664                    NaN                  NaN   \n",
       "737   780858289093574656                    NaN                  NaN   \n",
       "952   751937170840121344                    NaN                  NaN   \n",
       "679   789137962068021249                    NaN                  NaN   \n",
       "1742  679462823135686656                    NaN                  NaN   \n",
       "1408  699072405256409088                    NaN                  NaN   \n",
       "587   799757965289017345                    NaN                  NaN   \n",
       "\n",
       "                      timestamp  \\\n",
       "1911  2015-12-09 02:09:56 +0000   \n",
       "2146  2015-11-26 16:59:01 +0000   \n",
       "737   2016-09-27 19:54:58 +0000   \n",
       "952   2016-07-10 00:32:46 +0000   \n",
       "679   2016-10-20 16:15:26 +0000   \n",
       "1742  2015-12-23 00:45:35 +0000   \n",
       "1408  2016-02-15 03:27:04 +0000   \n",
       "587   2016-11-18 23:35:32 +0000   \n",
       "\n",
       "                                                 source  \\\n",
       "1911  <a href=\"http://twitter.com/download/iphone\" r...   \n",
       "2146  <a href=\"http://twitter.com/download/iphone\" r...   \n",
       "737   <a href=\"http://twitter.com/download/iphone\" r...   \n",
       "952   <a href=\"http://twitter.com/download/iphone\" r...   \n",
       "679   <a href=\"http://twitter.com/download/iphone\" r...   \n",
       "1742  <a href=\"http://twitter.com/download/iphone\" r...   \n",
       "1408  <a href=\"http://twitter.com/download/iphone\" r...   \n",
       "587   <a href=\"http://twitter.com/download/iphone\" r...   \n",
       "\n",
       "                                                   text  retweeted_status_id  \\\n",
       "1911  This is Lenny. He wants to be a sprinkler. 10/...                  NaN   \n",
       "2146  This is a spotted Lipitor Rumpelstiltskin name...                  NaN   \n",
       "737   This is Dash. He's very stylish, but also incr...                  NaN   \n",
       "952   This is Ruby. Her ice cube is melting. She doe...                  NaN   \n",
       "679   This is Bo. He's a West Congolese Bugaboop Snu...                  NaN   \n",
       "1742  Meet Hurley. He's the curly one. He hugs every...                  NaN   \n",
       "1408  ERMAHGERD 12/10 please enjoy https://t.co/7WrA...                  NaN   \n",
       "587   This is Sobe. She's a h*ckin happy doggo. Only...                  NaN   \n",
       "\n",
       "      retweeted_status_user_id retweeted_status_timestamp  \\\n",
       "1911                       NaN                        NaN   \n",
       "2146                       NaN                        NaN   \n",
       "737                        NaN                        NaN   \n",
       "952                        NaN                        NaN   \n",
       "679                        NaN                        NaN   \n",
       "1742                       NaN                        NaN   \n",
       "1408                       NaN                        NaN   \n",
       "587                        NaN                        NaN   \n",
       "\n",
       "                                          expanded_urls  rating_numerator  \\\n",
       "1911  https://twitter.com/dog_rates/status/674410619...                10   \n",
       "2146  https://twitter.com/dog_rates/status/669923323...                10   \n",
       "737   https://twitter.com/dog_rates/status/780858289...                10   \n",
       "952   https://twitter.com/dog_rates/status/751937170...                11   \n",
       "679   https://twitter.com/dog_rates/status/789137962...                12   \n",
       "1742  https://twitter.com/dog_rates/status/679462823...                11   \n",
       "1408  https://twitter.com/dog_rates/status/699072405...                12   \n",
       "587   https://twitter.com/dog_rates/status/799757965...                13   \n",
       "\n",
       "      rating_denominator    name  doggo floofer pupper puppo  \n",
       "1911                  10   Lenny   None    None   None  None  \n",
       "2146                  10       a   None    None   None  None  \n",
       "737                   10    Dash   None    None   None  None  \n",
       "952                   10    Ruby   None    None   None  None  \n",
       "679                   10      Bo   None    None   None  None  \n",
       "1742                  10  Hurley   None    None   None  None  \n",
       "1408                  10    None   None    None   None  None  \n",
       "587                   10    Sobe  doggo    None   None  None  "
      ]
     },
     "execution_count": 14,
     "metadata": {},
     "output_type": "execute_result"
    }
   ],
   "source": [
    "twitter_archive_df.sample(8)"
   ]
  },
  {
   "cell_type": "code",
   "execution_count": 15,
   "metadata": {},
   "outputs": [
    {
     "name": "stdout",
     "output_type": "stream",
     "text": [
      "<class 'pandas.core.frame.DataFrame'>\n",
      "RangeIndex: 2356 entries, 0 to 2355\n",
      "Data columns (total 17 columns):\n",
      " #   Column                      Non-Null Count  Dtype  \n",
      "---  ------                      --------------  -----  \n",
      " 0   tweet_id                    2356 non-null   int64  \n",
      " 1   in_reply_to_status_id       78 non-null     float64\n",
      " 2   in_reply_to_user_id         78 non-null     float64\n",
      " 3   timestamp                   2356 non-null   object \n",
      " 4   source                      2356 non-null   object \n",
      " 5   text                        2356 non-null   object \n",
      " 6   retweeted_status_id         181 non-null    float64\n",
      " 7   retweeted_status_user_id    181 non-null    float64\n",
      " 8   retweeted_status_timestamp  181 non-null    object \n",
      " 9   expanded_urls               2297 non-null   object \n",
      " 10  rating_numerator            2356 non-null   int64  \n",
      " 11  rating_denominator          2356 non-null   int64  \n",
      " 12  name                        2356 non-null   object \n",
      " 13  doggo                       2356 non-null   object \n",
      " 14  floofer                     2356 non-null   object \n",
      " 15  pupper                      2356 non-null   object \n",
      " 16  puppo                       2356 non-null   object \n",
      "dtypes: float64(4), int64(3), object(10)\n",
      "memory usage: 313.0+ KB\n"
     ]
    }
   ],
   "source": [
    "twitter_archive_df.info()"
   ]
  },
  {
   "cell_type": "code",
   "execution_count": 16,
   "metadata": {},
   "outputs": [
    {
     "data": {
      "text/plain": [
       "None          745\n",
       "a              55\n",
       "Charlie        12\n",
       "Cooper         11\n",
       "Lucy           11\n",
       "             ... \n",
       "Dex             1\n",
       "Ace             1\n",
       "Tayzie          1\n",
       "Grizzie         1\n",
       "Christoper      1\n",
       "Name: name, Length: 957, dtype: int64"
      ]
     },
     "execution_count": 16,
     "metadata": {},
     "output_type": "execute_result"
    }
   ],
   "source": [
    "twitter_archive_df['name'].value_counts()"
   ]
  },
  {
   "cell_type": "code",
   "execution_count": 17,
   "metadata": {},
   "outputs": [
    {
     "data": {
      "text/plain": [
       "array(['Abby', 'Ace', 'Acro', 'Adele', 'Aiden', 'Aja', 'Akumi', 'Al',\n",
       "       'Albert', 'Albus', 'Aldrick', 'Alejandro', 'Alexander',\n",
       "       'Alexanderson', 'Alf', 'Alfie', 'Alfy', 'Alice', 'Amber',\n",
       "       'Ambrose', 'Amy', 'Amélie', 'Anakin', 'Andru', 'Andy', 'Angel',\n",
       "       'Anna', 'Anthony', 'Antony', 'Apollo', 'Aqua', 'Archie', 'Arlen',\n",
       "       'Arlo', 'Arnie', 'Arnold', 'Arya', 'Ash', 'Asher', 'Ashleigh',\n",
       "       'Aspen', 'Astrid', 'Atlas', 'Atticus', 'Aubie', 'Augie', 'Autumn',\n",
       "       'Ava', 'Axel', 'Bailey', 'Baloo', 'Balto', 'Banditt', 'Banjo',\n",
       "       'Barclay', 'Barney', 'Baron', 'Barry', 'Batdog', 'Bauer', 'Baxter',\n",
       "       'Bayley', 'BeBe', 'Bear', 'Beau', 'Beckham', 'Beebop', 'Beemo',\n",
       "       'Bell', 'Bella', 'Belle', 'Ben', 'Benedict', 'Benji', 'Benny',\n",
       "       'Bentley', 'Berb', 'Berkeley', 'Bernie', 'Bert', 'Bertson',\n",
       "       'Betty', 'Beya', 'Biden', 'Bilbo', 'Billl', 'Billy', 'Binky',\n",
       "       'Birf', 'Bisquick', 'Blakely', 'Blanket', 'Blipson', 'Blitz',\n",
       "       'Bloo', 'Bloop', 'Blu', 'Blue', 'Bluebert', 'Bo', 'Bob', 'Bobb',\n",
       "       'Bobbay', 'Bobble', 'Bobby', 'Bode', 'Bodie', 'Bonaparte', 'Bones',\n",
       "       'Bookstore', 'Boomer', 'Boots', 'Boston', 'Bowie', 'Brad',\n",
       "       'Bradlay', 'Bradley', 'Brady', 'Brandi', 'Brandonald', 'Brandy',\n",
       "       'Brat', 'Brian', 'Brockly', 'Brody', 'Bronte', 'Brooks', 'Brownie',\n",
       "       'Bruce', 'Brudge', 'Bruiser', 'Bruno', 'Brutus', 'Bubba',\n",
       "       'Bubbles', 'Buckley', 'Buddah', 'Buddy', 'Bungalo', 'Burt',\n",
       "       'Butter', 'Butters', 'Cal', 'Calbert', 'Cali', 'Callie', 'Calvin',\n",
       "       'Canela', 'Cannon', 'Carbon', 'Carl', 'Carll', 'Carly', 'Carper',\n",
       "       'Carter', 'Caryl', 'Cash', 'Cassie', 'CeCe', 'Cecil', 'Cedrick',\n",
       "       'Cermet', 'Chadrick', 'Champ', 'Charl', 'Charles', 'Charleson',\n",
       "       'Charlie', 'Chase', 'Chaz', 'Cheesy', 'Chef', 'Chelsea', 'Cheryl',\n",
       "       'Chesney', 'Chester', 'Chesterson', 'Chet', 'Chevy', 'Chip',\n",
       "       'Chipson', 'Chloe', 'Chompsky', 'Christoper', 'Chubbs', 'Chuck',\n",
       "       'Chuckles', 'Chuq', 'Churlie', 'Cilantro', 'Clarence', 'Clark',\n",
       "       'Clarkus', 'Clarq', 'Claude', 'Cleopatricia', 'Clifford', 'Clybe',\n",
       "       'Clyde', 'Coco', 'Cody', 'Colby', 'Coleman', 'Colin', 'Combo',\n",
       "       'Comet', 'Cooper', 'Coops', 'Coopson', 'Cora', 'Corey', 'Covach',\n",
       "       'Craig', 'Crawford', 'Creg', 'Crimson', 'Crouton', 'Crumpet',\n",
       "       'Crystal', 'Cuddles', 'Cupcake', 'Cupid', 'Curtis', 'Daisy',\n",
       "       'Dakota', 'Dale', 'Dallas', 'Damon', 'Daniel', 'Danny', 'Dante',\n",
       "       'Darby', 'Darla', 'Darrel', 'Dash', 'Dave', 'Davey', 'Dawn',\n",
       "       'DayZ', 'Deacon', 'Derby', 'Derek', 'Devón', 'Dewey', 'Dex',\n",
       "       'Dexter', 'Dido', 'Dietrich', 'Diogi', 'Divine', 'Dixie', 'Django',\n",
       "       'Dobby', 'Doc', 'DonDon', 'Donny', 'Doobert', 'Dook', 'Dot',\n",
       "       'Dotsy', 'Doug', 'Duchess', 'Duddles', 'Dudley', 'Dug', 'Duke',\n",
       "       'Dunkin', 'Durg', 'Dutch', 'Dwight', 'Dylan', 'Earl', 'Eazy',\n",
       "       'Ebby', 'Ed', 'Edd', 'Edgar', 'Edmund', 'Eevee', 'Einstein',\n",
       "       'Eleanor', 'Eli', 'Ellie', 'Elliot', 'Emanuel', 'Ember', 'Emma',\n",
       "       'Emmie', 'Emmy', 'Enchilada', 'Erik', 'Eriq', 'Ester', 'Eugene',\n",
       "       'Eve', 'Evy', 'Fabio', 'Farfle', 'Ferg', 'Fido', 'Fiji', 'Fillup',\n",
       "       'Filup', 'Finley', 'Finn', 'Finnegus', 'Fiona', 'Fizz', 'Flash',\n",
       "       'Fletcher', 'Florence', 'Flurpson', 'Flávio', 'Frank', 'Frankie',\n",
       "       'Franklin', 'Franq', 'Fred', 'Freddery', 'Frönq', 'Furzey', 'Fwed',\n",
       "       'Fynn', 'Gabby', 'Gabe', 'Gary', 'General', 'Genevieve', 'Geno',\n",
       "       'Geoff', 'George', 'Georgie', 'Gerald', 'Gerbald', 'Gert',\n",
       "       'Gidget', 'Gilbert', 'Gin', 'Ginger', 'Gizmo', 'Glacier', 'Glenn',\n",
       "       'Godi', 'Godzilla', 'Goliath', 'Goose', 'Gordon', 'Grady', 'Grey',\n",
       "       'Griffin', 'Griswold', 'Grizz', 'Grizzie', 'Grizzwald', 'Gromit',\n",
       "       'Gunner', 'Gus', 'Gustaf', 'Gustav', 'Gòrdón', 'Hall', 'Halo',\n",
       "       'Hammond', 'Hamrick', 'Hank', 'Hanz', 'Happy', 'Harlso', 'Harnold',\n",
       "       'Harold', 'Harper', 'Harrison', 'Harry', 'Harvey', 'Hazel',\n",
       "       'Hector', 'Heinrich', 'Henry', 'Herald', 'Herb', 'Hercules',\n",
       "       'Herm', 'Hermione', 'Hero', 'Herschel', 'Hobbes', 'Holly',\n",
       "       'Horace', 'Howie', 'Hubertson', 'Huck', 'Humphrey', 'Hunter',\n",
       "       'Hurley', 'Huxley', 'Iggy', 'Ike', 'Indie', 'Iroh', 'Ito', 'Ivar',\n",
       "       'Izzy', 'JD', 'Jack', 'Jackie', 'Jackson', 'Jameson', 'Jamesy',\n",
       "       'Jangle', 'Jareld', 'Jarod', 'Jarvis', 'Jaspers', 'Jax', 'Jay',\n",
       "       'Jaycob', 'Jazz', 'Jazzy', 'Jeb', 'Jebberson', 'Jed', 'Jeffrey',\n",
       "       'Jeffri', 'Jeffrie', 'Jennifur', 'Jeph', 'Jeremy', 'Jerome',\n",
       "       'Jerry', 'Jersey', 'Jesse', 'Jessifer', 'Jessiga', 'Jett', 'Jim',\n",
       "       'Jimbo', 'Jiminus', 'Jiminy', 'Jimison', 'Jimothy', 'Jo',\n",
       "       'Jockson', 'Joey', 'Jomathan', 'Jonah', 'Jordy', 'Josep', 'Joshwa',\n",
       "       'Juckson', 'Julio', 'Julius', 'Juno', 'Kaia', 'Kaiya', 'Kallie',\n",
       "       'Kane', 'Kanu', 'Kara', 'Karl', 'Karll', 'Karma', 'Kathmandu',\n",
       "       'Katie', 'Kawhi', 'Kayla', 'Keet', 'Keith', 'Kellogg', 'Ken',\n",
       "       'Kendall', 'Kenneth', 'Kenny', 'Kenzie', 'Keurig', 'Kevin',\n",
       "       'Kevon', 'Kial', 'Kilo', 'Kingsley', 'Kirby', 'Kirk', 'Klein',\n",
       "       'Klevin', 'Kloey', 'Kobe', 'Koda', 'Kody', 'Koko', 'Kollin',\n",
       "       'Kona', 'Kota', 'Kramer', 'Kreg', 'Kreggory', 'Kulet', 'Kuyu',\n",
       "       'Kyle', 'Kyro', 'Lacy', 'Laela', 'Laika', 'Lambeau', 'Lance',\n",
       "       'Larry', 'Lassie', 'Layla', 'Leela', 'Lennon', 'Lenny', 'Lenox',\n",
       "       'Leo', 'Leonard', 'Leonidas', 'Levi', 'Liam', 'Lilah', 'Lili',\n",
       "       'Lilli', 'Lillie', 'Lilly', 'Lily', 'Lincoln', 'Linda', 'Link',\n",
       "       'Linus', 'Lipton', 'Livvie', 'Lizzie', 'Logan', 'Loki', 'Lola',\n",
       "       'Lolo', 'Longfellow', 'Loomis', 'Lorelei', 'Lorenzo', 'Lou',\n",
       "       'Louie', 'Louis', 'Luca', 'Lucia', 'Lucky', 'Lucy', 'Lugan',\n",
       "       'Lulu', 'Luna', 'Lupe', 'Luther', 'Mabel', 'Mac', 'Mack', 'Maddie',\n",
       "       'Maggie', 'Mairi', 'Maisey', 'Major', 'Maks', 'Malcolm', 'Malikai',\n",
       "       'Margo', 'Mark', 'Marlee', 'Marley', 'Marq', 'Marty', 'Marvin',\n",
       "       'Mary', 'Mason', 'Mattie', 'Maude', 'Mauve', 'Max', 'Maxaroni',\n",
       "       'Maximus', 'Maxwell', 'Maya', 'Meatball', 'Meera', 'Meyer', 'Mia',\n",
       "       'Michelangelope', 'Miguel', 'Mike', 'Miley', 'Milky', 'Millie',\n",
       "       'Milo', 'Mimosa', 'Mingus', 'Mister', 'Misty', 'Mitch', 'Mo',\n",
       "       'Moe', 'Mojo', 'Mollie', 'Molly', 'Mona', 'Monkey', 'Monster',\n",
       "       'Monty', 'Moofasa', 'Mookie', 'Moose', 'Moreton', 'Mosby',\n",
       "       'Murphy', 'Mutt', 'Mya', 'Nala', 'Naphaniel', 'Napolean', 'Nelly',\n",
       "       'Neptune', 'Newt', 'Nico', 'Nida', 'Nigel', 'Nimbus', 'Noah',\n",
       "       'Nollie', 'None', 'Noosh', 'Norman', 'Nugget', 'O', 'Oakley',\n",
       "       'Obi', 'Obie', 'Oddie', 'Odie', 'Odin', 'Olaf', 'Ole', 'Olive',\n",
       "       'Oliver', 'Olivia', 'Oliviér', 'Ollie', 'Opal', 'Opie', 'Oreo',\n",
       "       'Orion', 'Oscar', 'Oshie', 'Otis', 'Ozzie', 'Ozzy', 'Pablo',\n",
       "       'Paisley', 'Pancake', 'Panda', 'Patch', 'Patrick', 'Paull',\n",
       "       'Pavlov', 'Pawnd', 'Peaches', 'Peanut', 'Penelope', 'Penny',\n",
       "       'Pepper', 'Percy', 'Perry', 'Pete', 'Petrick', 'Pherb', 'Phil',\n",
       "       'Philbert', 'Philippe', 'Phineas', 'Phred', 'Pickles', 'Pilot',\n",
       "       'Pinot', 'Pip', 'Piper', 'Pippa', 'Pippin', 'Pipsy', 'Pluto',\n",
       "       'Poppy', 'Pubert', 'Puff', 'Pumpkin', 'Pupcasso', 'Quinn', 'Ralf',\n",
       "       'Ralph', 'Ralpher', 'Ralphie', 'Ralphson', 'Ralphus', 'Ralphy',\n",
       "       'Ralphé', 'Rambo', 'Randall', 'Raphael', 'Rascal', 'Raymond',\n",
       "       'Reagan', 'Reese', 'Reggie', 'Reginald', 'Remington', 'Remus',\n",
       "       'Remy', 'Reptar', 'Rey', 'Rhino', 'Richie', 'Ricky', 'Ridley',\n",
       "       'Riley', 'Rilo', 'Rinna', 'River', 'Rizzo', 'Rizzy', 'Robin',\n",
       "       'Rocco', 'Rocky', 'Rodman', 'Rodney', 'Rolf', 'Romeo', 'Ron',\n",
       "       'Ronduh', 'Ronnie', 'Rontu', 'Rooney', 'Roosevelt', 'Rorie',\n",
       "       'Rory', 'Roscoe', 'Rose', 'Rosie', 'Rover', 'Rubio', 'Ruby',\n",
       "       'Rudy', 'Rueben', 'Ruffles', 'Rufio', 'Rufus', 'Rumble', 'Rumpole',\n",
       "       'Rupert', 'Rusty', 'Sadie', 'Sage', 'Sailer', 'Sailor', 'Sam',\n",
       "       'Sammy', 'Sampson', 'Samsom', 'Samson', 'Sandra', 'Sandy', 'Sansa',\n",
       "       'Sarge', 'Saydee', 'Schnitzel', 'Schnozz', 'Scooter', 'Scott',\n",
       "       'Scout', 'Scruffers', 'Seamus', 'Sebastian', 'Sephie', 'Severus',\n",
       "       'Shadoe', 'Shadow', 'Shaggy', 'Shakespeare', 'Shawwn', 'Shelby',\n",
       "       'Shikha', 'Shiloh', 'Shnuggles', 'Shooter', 'Siba', 'Sid',\n",
       "       'Sierra', 'Simba', 'Skittle', 'Skittles', 'Sky', 'Skye', 'Smiley',\n",
       "       'Smokey', 'Snickers', 'Snicku', 'Snoop', 'Snoopy', 'Sobe', 'Socks',\n",
       "       'Sojourner', 'Solomon', 'Sonny', 'Sophie', 'Sora', 'Spanky',\n",
       "       'Spark', 'Sparky', 'Spencer', 'Sprinkles', 'Sprout', 'Staniel',\n",
       "       'Stanley', 'Stark', 'Stefan', 'Stella', 'Stephan', 'Stephanus',\n",
       "       'Steve', 'Steven', 'Stewie', 'Storkson', 'Stormy', 'Strider',\n",
       "       'Striker', 'Strudel', 'Stu', 'Stuart', 'Stubert', 'Sugar', 'Suki',\n",
       "       'Sully', 'Sundance', 'Sunny', 'Sunshine', 'Superpup', 'Swagger',\n",
       "       'Sweet', 'Sweets', 'Taco', 'Tango', 'Tanner', 'Tassy', 'Tater',\n",
       "       'Tayzie', 'Taz', 'Tebow', 'Ted', 'Tedders', 'Teddy', 'Tedrick',\n",
       "       'Terrance', 'Terrenth', 'Terry', 'Tess', 'Tessa', 'Theo',\n",
       "       'Theodore', 'Thor', 'Thumas', 'Tiger', 'Tilly', 'Timber',\n",
       "       'Timison', 'Timmy', 'Timofy', 'Tino', 'Titan', 'Tito', 'Tobi',\n",
       "       'Toby', 'Todo', 'Toffee', 'Tom', 'Tommy', 'Tonks', 'Torque',\n",
       "       'Tove', 'Travis', 'Traviss', 'Trevith', 'Trigger', 'Trip', 'Tripp',\n",
       "       'Trooper', 'Tuck', 'Tucker', 'Tuco', 'Tug', 'Tupawc', 'Tycho',\n",
       "       'Tyr', 'Tyrone', 'Tyrus', 'Ulysses', 'Venti', 'Vince', 'Vincent',\n",
       "       'Vinnie', 'Vinscent', 'Vixen', 'Wafer', 'Waffles', 'Walker',\n",
       "       'Wallace', 'Wally', 'Walter', 'Watson', 'Wesley', 'Wiggles',\n",
       "       'Willem', 'William', 'Willie', 'Willow', 'Willy', 'Wilson',\n",
       "       'Winifred', 'Winnie', 'Winston', 'Wishes', 'Wyatt', 'Yoda', 'Yogi',\n",
       "       'Yukon', 'Zara', 'Zeek', 'Zeke', 'Zeus', 'Ziva', 'Zoe', 'Zoey',\n",
       "       'Zooey', 'Zuzu', 'a', 'actually', 'all', 'an', 'by', 'getting',\n",
       "       'his', 'incredibly', 'infuriating', 'just', 'life', 'light', 'mad',\n",
       "       'my', 'not', 'officially', 'old', 'one', 'quite', 'space', 'such',\n",
       "       'the', 'this', 'unacceptable', 'very'], dtype=object)"
      ]
     },
     "execution_count": 17,
     "metadata": {},
     "output_type": "execute_result"
    }
   ],
   "source": [
    "#since I couldn't display all the names from the previous code block I used this way to see all the dog names.\n",
    "names = twitter_archive_df['name'].unique()\n",
    "names.sort()\n",
    "names"
   ]
  },
  {
   "cell_type": "code",
   "execution_count": 18,
   "metadata": {},
   "outputs": [
    {
     "data": {
      "text/plain": [
       "None     2259\n",
       "doggo      97\n",
       "Name: doggo, dtype: int64"
      ]
     },
     "execution_count": 18,
     "metadata": {},
     "output_type": "execute_result"
    }
   ],
   "source": [
    "doggo = twitter_archive_df['doggo'].value_counts()\n",
    "doggo"
   ]
  },
  {
   "cell_type": "code",
   "execution_count": 19,
   "metadata": {},
   "outputs": [
    {
     "data": {
      "text/plain": [
       "None     2259\n",
       "doggo      97\n",
       "Name: doggo, dtype: int64"
      ]
     },
     "execution_count": 19,
     "metadata": {},
     "output_type": "execute_result"
    }
   ],
   "source": [
    "floofer = twitter_archive_df['doggo'].value_counts()\n",
    "floofer"
   ]
  },
  {
   "cell_type": "code",
   "execution_count": 20,
   "metadata": {},
   "outputs": [
    {
     "data": {
      "text/plain": [
       "None     2259\n",
       "doggo      97\n",
       "Name: doggo, dtype: int64"
      ]
     },
     "execution_count": 20,
     "metadata": {},
     "output_type": "execute_result"
    }
   ],
   "source": [
    "pupper = twitter_archive_df['doggo'].value_counts()\n",
    "pupper"
   ]
  },
  {
   "cell_type": "code",
   "execution_count": 21,
   "metadata": {},
   "outputs": [
    {
     "data": {
      "text/plain": [
       "None     2259\n",
       "doggo      97\n",
       "Name: doggo, dtype: int64"
      ]
     },
     "execution_count": 21,
     "metadata": {},
     "output_type": "execute_result"
    }
   ],
   "source": [
    "puppo = twitter_archive_df['doggo'].value_counts()\n",
    "puppo"
   ]
  },
  {
   "cell_type": "code",
   "execution_count": 22,
   "metadata": {},
   "outputs": [
    {
     "data": {
      "text/html": [
       "<div>\n",
       "<style scoped>\n",
       "    .dataframe tbody tr th:only-of-type {\n",
       "        vertical-align: middle;\n",
       "    }\n",
       "\n",
       "    .dataframe tbody tr th {\n",
       "        vertical-align: top;\n",
       "    }\n",
       "\n",
       "    .dataframe thead th {\n",
       "        text-align: right;\n",
       "    }\n",
       "</style>\n",
       "<table border=\"1\" class=\"dataframe\">\n",
       "  <thead>\n",
       "    <tr style=\"text-align: right;\">\n",
       "      <th></th>\n",
       "      <th>tweet_id</th>\n",
       "      <th>in_reply_to_status_id</th>\n",
       "      <th>in_reply_to_user_id</th>\n",
       "      <th>timestamp</th>\n",
       "      <th>source</th>\n",
       "      <th>text</th>\n",
       "      <th>retweeted_status_id</th>\n",
       "      <th>retweeted_status_user_id</th>\n",
       "      <th>retweeted_status_timestamp</th>\n",
       "      <th>expanded_urls</th>\n",
       "      <th>rating_numerator</th>\n",
       "      <th>rating_denominator</th>\n",
       "      <th>name</th>\n",
       "      <th>doggo</th>\n",
       "      <th>floofer</th>\n",
       "      <th>pupper</th>\n",
       "      <th>puppo</th>\n",
       "    </tr>\n",
       "  </thead>\n",
       "  <tbody>\n",
       "  </tbody>\n",
       "</table>\n",
       "</div>"
      ],
      "text/plain": [
       "Empty DataFrame\n",
       "Columns: [tweet_id, in_reply_to_status_id, in_reply_to_user_id, timestamp, source, text, retweeted_status_id, retweeted_status_user_id, retweeted_status_timestamp, expanded_urls, rating_numerator, rating_denominator, name, doggo, floofer, pupper, puppo]\n",
       "Index: []"
      ]
     },
     "execution_count": 22,
     "metadata": {},
     "output_type": "execute_result"
    }
   ],
   "source": [
    "twitter_archive_df[twitter_archive_df.duplicated()]"
   ]
  },
  {
   "cell_type": "code",
   "execution_count": 23,
   "metadata": {},
   "outputs": [
    {
     "data": {
      "text/plain": [
       "tweet_id                         0\n",
       "in_reply_to_status_id         2278\n",
       "in_reply_to_user_id           2278\n",
       "timestamp                        0\n",
       "source                           0\n",
       "text                             0\n",
       "retweeted_status_id           2175\n",
       "retweeted_status_user_id      2175\n",
       "retweeted_status_timestamp    2175\n",
       "expanded_urls                   59\n",
       "rating_numerator                 0\n",
       "rating_denominator               0\n",
       "name                             0\n",
       "doggo                            0\n",
       "floofer                          0\n",
       "pupper                           0\n",
       "puppo                            0\n",
       "dtype: int64"
      ]
     },
     "execution_count": 23,
     "metadata": {},
     "output_type": "execute_result"
    }
   ],
   "source": [
    "twitter_archive_df.isnull().sum()"
   ]
  },
  {
   "cell_type": "code",
   "execution_count": 24,
   "metadata": {},
   "outputs": [
    {
     "data": {
      "text/plain": [
       "12      558\n",
       "11      464\n",
       "10      461\n",
       "13      351\n",
       "9       158\n",
       "8       102\n",
       "7        55\n",
       "14       54\n",
       "5        37\n",
       "6        32\n",
       "3        19\n",
       "4        17\n",
       "2         9\n",
       "1         9\n",
       "75        2\n",
       "15        2\n",
       "420       2\n",
       "0         2\n",
       "80        1\n",
       "144       1\n",
       "17        1\n",
       "26        1\n",
       "20        1\n",
       "121       1\n",
       "143       1\n",
       "44        1\n",
       "60        1\n",
       "45        1\n",
       "50        1\n",
       "99        1\n",
       "204       1\n",
       "1776      1\n",
       "165       1\n",
       "666       1\n",
       "27        1\n",
       "182       1\n",
       "24        1\n",
       "960       1\n",
       "84        1\n",
       "88        1\n",
       "Name: rating_numerator, dtype: int64"
      ]
     },
     "execution_count": 24,
     "metadata": {},
     "output_type": "execute_result"
    }
   ],
   "source": [
    "twitter_archive_df.rating_numerator.value_counts()"
   ]
  },
  {
   "cell_type": "code",
   "execution_count": 25,
   "metadata": {},
   "outputs": [
    {
     "data": {
      "text/plain": [
       "10     2333\n",
       "11        3\n",
       "50        3\n",
       "20        2\n",
       "80        2\n",
       "70        1\n",
       "7         1\n",
       "15        1\n",
       "150       1\n",
       "170       1\n",
       "0         1\n",
       "90        1\n",
       "40        1\n",
       "130       1\n",
       "110       1\n",
       "16        1\n",
       "120       1\n",
       "2         1\n",
       "Name: rating_denominator, dtype: int64"
      ]
     },
     "execution_count": 25,
     "metadata": {},
     "output_type": "execute_result"
    }
   ],
   "source": [
    "twitter_archive_df.rating_denominator.value_counts()"
   ]
  },
  {
   "cell_type": "code",
   "execution_count": 26,
   "metadata": {},
   "outputs": [
    {
     "data": {
      "text/plain": [
       "605     RT @dog_rates: Not familiar with this breed. N...\n",
       "1446    After reading the comments I may have overesti...\n",
       "1869    What kind of person sends in a picture without...\n",
       "1940    The millennials have spoken and we've decided ...\n",
       "2038    After 22 minutes of careful deliberation this ...\n",
       "2091    Flamboyant pup here. Probably poisonous. Won't...\n",
       "2261    Never seen dog like this. Breathes heavy. Tilt...\n",
       "2335    This is an Albanian 3 1/2 legged  Episcopalian...\n",
       "2338    Not familiar with this breed. No tail (weird)....\n",
       "Name: text, dtype: object"
      ]
     },
     "execution_count": 26,
     "metadata": {},
     "output_type": "execute_result"
    }
   ],
   "source": [
    "twitter_archive_df[twitter_archive_df['rating_numerator']==1].text"
   ]
  },
  {
   "cell_type": "code",
   "execution_count": 27,
   "metadata": {},
   "outputs": [
    {
     "data": {
      "text/plain": [
       "599     RT @dog_rates: Here we see a rare pouched pupp...\n",
       "745     RT @dog_rates: This is Hank. He's mischievous ...\n",
       "764     RT @dog_rates: Meet Gerald. He's a fairly exot...\n",
       "835     Meet Gerald. He's a fairly exotic doggo. Floof...\n",
       "859     This is Clark. He collects teddy bears. It's a...\n",
       "                              ...                        \n",
       "2315    This is Christoper. He is a spotted Penne. Can...\n",
       "2331    Here we have a mixed Asiago from the Galápagos...\n",
       "2340    Can stand on stump for what seems like a while...\n",
       "2346    Here is the Rand Paul of retrievers folks! He'...\n",
       "2355    Here we have a Japanese Irish Setter. Lost eye...\n",
       "Name: text, Length: 102, dtype: object"
      ]
     },
     "execution_count": 27,
     "metadata": {},
     "output_type": "execute_result"
    }
   ],
   "source": [
    "twitter_archive_df[twitter_archive_df['rating_numerator']==8].text"
   ]
  },
  {
   "cell_type": "markdown",
   "metadata": {},
   "source": [
    "### Quality and Tidiness issues twitter_archive_df:\n",
    "\n",
    "* The column tweet_id has type integer nested of string.\n",
    "\n",
    "\n",
    "* Some dog names aren't real or valid like \"a, an, mad, his, not, old, my, such...etc\"\n",
    "\n",
    "\n",
    "* Some dog names has None value and it should replaced with NaN.\n",
    "\n",
    "\n",
    "* The columns timestamp and retweeted_status_timestamp are type of string nested of datetime.\n",
    "\n",
    "\n",
    "* The dog stages are divided into 4 columns which are \"doggo, floofer, pupper or puppo\" nested of combined as one column.\n",
    "\n",
    "\n",
    "* The source column contain part of HTML code nested of just the source.\n",
    "\n",
    "\n",
    "* The four dog stages has None nested of NaN.\n",
    "\n",
    "\n",
    "* Some of the gathered tweets are retweets and it should be removed.\n",
    "\n",
    "\n",
    "* There's columns that hard to read and it won't be needed.\n"
   ]
  },
  {
   "cell_type": "markdown",
   "metadata": {},
   "source": [
    "## Assessing image_predictions_df:"
   ]
  },
  {
   "cell_type": "code",
   "execution_count": 28,
   "metadata": {},
   "outputs": [
    {
     "data": {
      "text/html": [
       "<div>\n",
       "<style scoped>\n",
       "    .dataframe tbody tr th:only-of-type {\n",
       "        vertical-align: middle;\n",
       "    }\n",
       "\n",
       "    .dataframe tbody tr th {\n",
       "        vertical-align: top;\n",
       "    }\n",
       "\n",
       "    .dataframe thead th {\n",
       "        text-align: right;\n",
       "    }\n",
       "</style>\n",
       "<table border=\"1\" class=\"dataframe\">\n",
       "  <thead>\n",
       "    <tr style=\"text-align: right;\">\n",
       "      <th></th>\n",
       "      <th>tweet_id</th>\n",
       "      <th>jpg_url</th>\n",
       "      <th>img_num</th>\n",
       "      <th>p1</th>\n",
       "      <th>p1_conf</th>\n",
       "      <th>p1_dog</th>\n",
       "      <th>p2</th>\n",
       "      <th>p2_conf</th>\n",
       "      <th>p2_dog</th>\n",
       "      <th>p3</th>\n",
       "      <th>p3_conf</th>\n",
       "      <th>p3_dog</th>\n",
       "    </tr>\n",
       "  </thead>\n",
       "  <tbody>\n",
       "    <tr>\n",
       "      <th>0</th>\n",
       "      <td>666020888022790149</td>\n",
       "      <td>https://pbs.twimg.com/media/CT4udn0WwAA0aMy.jpg</td>\n",
       "      <td>1</td>\n",
       "      <td>Welsh_springer_spaniel</td>\n",
       "      <td>0.465074</td>\n",
       "      <td>True</td>\n",
       "      <td>collie</td>\n",
       "      <td>0.156665</td>\n",
       "      <td>True</td>\n",
       "      <td>Shetland_sheepdog</td>\n",
       "      <td>0.061428</td>\n",
       "      <td>True</td>\n",
       "    </tr>\n",
       "    <tr>\n",
       "      <th>1</th>\n",
       "      <td>666029285002620928</td>\n",
       "      <td>https://pbs.twimg.com/media/CT42GRgUYAA5iDo.jpg</td>\n",
       "      <td>1</td>\n",
       "      <td>redbone</td>\n",
       "      <td>0.506826</td>\n",
       "      <td>True</td>\n",
       "      <td>miniature_pinscher</td>\n",
       "      <td>0.074192</td>\n",
       "      <td>True</td>\n",
       "      <td>Rhodesian_ridgeback</td>\n",
       "      <td>0.072010</td>\n",
       "      <td>True</td>\n",
       "    </tr>\n",
       "    <tr>\n",
       "      <th>2</th>\n",
       "      <td>666033412701032449</td>\n",
       "      <td>https://pbs.twimg.com/media/CT4521TWwAEvMyu.jpg</td>\n",
       "      <td>1</td>\n",
       "      <td>German_shepherd</td>\n",
       "      <td>0.596461</td>\n",
       "      <td>True</td>\n",
       "      <td>malinois</td>\n",
       "      <td>0.138584</td>\n",
       "      <td>True</td>\n",
       "      <td>bloodhound</td>\n",
       "      <td>0.116197</td>\n",
       "      <td>True</td>\n",
       "    </tr>\n",
       "    <tr>\n",
       "      <th>3</th>\n",
       "      <td>666044226329800704</td>\n",
       "      <td>https://pbs.twimg.com/media/CT5Dr8HUEAA-lEu.jpg</td>\n",
       "      <td>1</td>\n",
       "      <td>Rhodesian_ridgeback</td>\n",
       "      <td>0.408143</td>\n",
       "      <td>True</td>\n",
       "      <td>redbone</td>\n",
       "      <td>0.360687</td>\n",
       "      <td>True</td>\n",
       "      <td>miniature_pinscher</td>\n",
       "      <td>0.222752</td>\n",
       "      <td>True</td>\n",
       "    </tr>\n",
       "    <tr>\n",
       "      <th>4</th>\n",
       "      <td>666049248165822465</td>\n",
       "      <td>https://pbs.twimg.com/media/CT5IQmsXIAAKY4A.jpg</td>\n",
       "      <td>1</td>\n",
       "      <td>miniature_pinscher</td>\n",
       "      <td>0.560311</td>\n",
       "      <td>True</td>\n",
       "      <td>Rottweiler</td>\n",
       "      <td>0.243682</td>\n",
       "      <td>True</td>\n",
       "      <td>Doberman</td>\n",
       "      <td>0.154629</td>\n",
       "      <td>True</td>\n",
       "    </tr>\n",
       "    <tr>\n",
       "      <th>5</th>\n",
       "      <td>666050758794694657</td>\n",
       "      <td>https://pbs.twimg.com/media/CT5Jof1WUAEuVxN.jpg</td>\n",
       "      <td>1</td>\n",
       "      <td>Bernese_mountain_dog</td>\n",
       "      <td>0.651137</td>\n",
       "      <td>True</td>\n",
       "      <td>English_springer</td>\n",
       "      <td>0.263788</td>\n",
       "      <td>True</td>\n",
       "      <td>Greater_Swiss_Mountain_dog</td>\n",
       "      <td>0.016199</td>\n",
       "      <td>True</td>\n",
       "    </tr>\n",
       "    <tr>\n",
       "      <th>6</th>\n",
       "      <td>666051853826850816</td>\n",
       "      <td>https://pbs.twimg.com/media/CT5KoJ1WoAAJash.jpg</td>\n",
       "      <td>1</td>\n",
       "      <td>box_turtle</td>\n",
       "      <td>0.933012</td>\n",
       "      <td>False</td>\n",
       "      <td>mud_turtle</td>\n",
       "      <td>0.045885</td>\n",
       "      <td>False</td>\n",
       "      <td>terrapin</td>\n",
       "      <td>0.017885</td>\n",
       "      <td>False</td>\n",
       "    </tr>\n",
       "    <tr>\n",
       "      <th>7</th>\n",
       "      <td>666055525042405380</td>\n",
       "      <td>https://pbs.twimg.com/media/CT5N9tpXIAAifs1.jpg</td>\n",
       "      <td>1</td>\n",
       "      <td>chow</td>\n",
       "      <td>0.692517</td>\n",
       "      <td>True</td>\n",
       "      <td>Tibetan_mastiff</td>\n",
       "      <td>0.058279</td>\n",
       "      <td>True</td>\n",
       "      <td>fur_coat</td>\n",
       "      <td>0.054449</td>\n",
       "      <td>False</td>\n",
       "    </tr>\n",
       "  </tbody>\n",
       "</table>\n",
       "</div>"
      ],
      "text/plain": [
       "             tweet_id                                          jpg_url  \\\n",
       "0  666020888022790149  https://pbs.twimg.com/media/CT4udn0WwAA0aMy.jpg   \n",
       "1  666029285002620928  https://pbs.twimg.com/media/CT42GRgUYAA5iDo.jpg   \n",
       "2  666033412701032449  https://pbs.twimg.com/media/CT4521TWwAEvMyu.jpg   \n",
       "3  666044226329800704  https://pbs.twimg.com/media/CT5Dr8HUEAA-lEu.jpg   \n",
       "4  666049248165822465  https://pbs.twimg.com/media/CT5IQmsXIAAKY4A.jpg   \n",
       "5  666050758794694657  https://pbs.twimg.com/media/CT5Jof1WUAEuVxN.jpg   \n",
       "6  666051853826850816  https://pbs.twimg.com/media/CT5KoJ1WoAAJash.jpg   \n",
       "7  666055525042405380  https://pbs.twimg.com/media/CT5N9tpXIAAifs1.jpg   \n",
       "\n",
       "   img_num                      p1   p1_conf  p1_dog                  p2  \\\n",
       "0        1  Welsh_springer_spaniel  0.465074    True              collie   \n",
       "1        1                 redbone  0.506826    True  miniature_pinscher   \n",
       "2        1         German_shepherd  0.596461    True            malinois   \n",
       "3        1     Rhodesian_ridgeback  0.408143    True             redbone   \n",
       "4        1      miniature_pinscher  0.560311    True          Rottweiler   \n",
       "5        1    Bernese_mountain_dog  0.651137    True    English_springer   \n",
       "6        1              box_turtle  0.933012   False          mud_turtle   \n",
       "7        1                    chow  0.692517    True     Tibetan_mastiff   \n",
       "\n",
       "    p2_conf  p2_dog                          p3   p3_conf  p3_dog  \n",
       "0  0.156665    True           Shetland_sheepdog  0.061428    True  \n",
       "1  0.074192    True         Rhodesian_ridgeback  0.072010    True  \n",
       "2  0.138584    True                  bloodhound  0.116197    True  \n",
       "3  0.360687    True          miniature_pinscher  0.222752    True  \n",
       "4  0.243682    True                    Doberman  0.154629    True  \n",
       "5  0.263788    True  Greater_Swiss_Mountain_dog  0.016199    True  \n",
       "6  0.045885   False                    terrapin  0.017885   False  \n",
       "7  0.058279    True                    fur_coat  0.054449   False  "
      ]
     },
     "execution_count": 28,
     "metadata": {},
     "output_type": "execute_result"
    }
   ],
   "source": [
    "image_predictions_df.head(8)"
   ]
  },
  {
   "cell_type": "code",
   "execution_count": 29,
   "metadata": {},
   "outputs": [
    {
     "data": {
      "text/plain": [
       "(2075, 12)"
      ]
     },
     "execution_count": 29,
     "metadata": {},
     "output_type": "execute_result"
    }
   ],
   "source": [
    "image_predictions_df.shape"
   ]
  },
  {
   "cell_type": "code",
   "execution_count": 30,
   "metadata": {},
   "outputs": [
    {
     "name": "stdout",
     "output_type": "stream",
     "text": [
      "<class 'pandas.core.frame.DataFrame'>\n",
      "RangeIndex: 2075 entries, 0 to 2074\n",
      "Data columns (total 12 columns):\n",
      " #   Column    Non-Null Count  Dtype  \n",
      "---  ------    --------------  -----  \n",
      " 0   tweet_id  2075 non-null   int64  \n",
      " 1   jpg_url   2075 non-null   object \n",
      " 2   img_num   2075 non-null   int64  \n",
      " 3   p1        2075 non-null   object \n",
      " 4   p1_conf   2075 non-null   float64\n",
      " 5   p1_dog    2075 non-null   bool   \n",
      " 6   p2        2075 non-null   object \n",
      " 7   p2_conf   2075 non-null   float64\n",
      " 8   p2_dog    2075 non-null   bool   \n",
      " 9   p3        2075 non-null   object \n",
      " 10  p3_conf   2075 non-null   float64\n",
      " 11  p3_dog    2075 non-null   bool   \n",
      "dtypes: bool(3), float64(3), int64(2), object(4)\n",
      "memory usage: 152.1+ KB\n"
     ]
    }
   ],
   "source": [
    "image_predictions_df.info()"
   ]
  },
  {
   "cell_type": "code",
   "execution_count": 31,
   "metadata": {},
   "outputs": [
    {
     "data": {
      "text/html": [
       "<div>\n",
       "<style scoped>\n",
       "    .dataframe tbody tr th:only-of-type {\n",
       "        vertical-align: middle;\n",
       "    }\n",
       "\n",
       "    .dataframe tbody tr th {\n",
       "        vertical-align: top;\n",
       "    }\n",
       "\n",
       "    .dataframe thead th {\n",
       "        text-align: right;\n",
       "    }\n",
       "</style>\n",
       "<table border=\"1\" class=\"dataframe\">\n",
       "  <thead>\n",
       "    <tr style=\"text-align: right;\">\n",
       "      <th></th>\n",
       "      <th>tweet_id</th>\n",
       "      <th>jpg_url</th>\n",
       "      <th>img_num</th>\n",
       "      <th>p1</th>\n",
       "      <th>p1_conf</th>\n",
       "      <th>p1_dog</th>\n",
       "      <th>p2</th>\n",
       "      <th>p2_conf</th>\n",
       "      <th>p2_dog</th>\n",
       "      <th>p3</th>\n",
       "      <th>p3_conf</th>\n",
       "      <th>p3_dog</th>\n",
       "    </tr>\n",
       "  </thead>\n",
       "  <tbody>\n",
       "  </tbody>\n",
       "</table>\n",
       "</div>"
      ],
      "text/plain": [
       "Empty DataFrame\n",
       "Columns: [tweet_id, jpg_url, img_num, p1, p1_conf, p1_dog, p2, p2_conf, p2_dog, p3, p3_conf, p3_dog]\n",
       "Index: []"
      ]
     },
     "execution_count": 31,
     "metadata": {},
     "output_type": "execute_result"
    }
   ],
   "source": [
    "image_predictions_df[image_predictions_df.duplicated()]"
   ]
  },
  {
   "cell_type": "code",
   "execution_count": 32,
   "metadata": {},
   "outputs": [
    {
     "data": {
      "text/plain": [
       "tweet_id    0\n",
       "jpg_url     0\n",
       "img_num     0\n",
       "p1          0\n",
       "p1_conf     0\n",
       "p1_dog      0\n",
       "p2          0\n",
       "p2_conf     0\n",
       "p2_dog      0\n",
       "p3          0\n",
       "p3_conf     0\n",
       "p3_dog      0\n",
       "dtype: int64"
      ]
     },
     "execution_count": 32,
     "metadata": {},
     "output_type": "execute_result"
    }
   ],
   "source": [
    "image_predictions_df.isnull().sum()"
   ]
  },
  {
   "cell_type": "code",
   "execution_count": 33,
   "metadata": {},
   "outputs": [
    {
     "data": {
      "text/plain": [
       "2075"
      ]
     },
     "execution_count": 33,
     "metadata": {},
     "output_type": "execute_result"
    }
   ],
   "source": [
    "image_predictions_df.p1.count()"
   ]
  },
  {
   "cell_type": "code",
   "execution_count": 34,
   "metadata": {},
   "outputs": [
    {
     "data": {
      "text/plain": [
       "2075"
      ]
     },
     "execution_count": 34,
     "metadata": {},
     "output_type": "execute_result"
    }
   ],
   "source": [
    "image_predictions_df.p2.count()"
   ]
  },
  {
   "cell_type": "code",
   "execution_count": 35,
   "metadata": {},
   "outputs": [
    {
     "data": {
      "text/plain": [
       "2075"
      ]
     },
     "execution_count": 35,
     "metadata": {},
     "output_type": "execute_result"
    }
   ],
   "source": [
    "image_predictions_df.p3.count()"
   ]
  },
  {
   "cell_type": "markdown",
   "metadata": {},
   "source": [
    "### Quality and Tidiness issues image_predictions_df:\n",
    "\n",
    "* There are 2356 tweets in the dataset twitter_archive_df but there are only 2075 in image_predictions_df dataset.\n",
    "\n",
    "\n",
    "* The column tweet_id is an integer nested of string.\n",
    "\n",
    "\n",
    "* The dog breeding type columns (p1, p2, p3) have underscores instead of white spaces.\n",
    "\n",
    "\n",
    "* This dataset should be merged with the previous one."
   ]
  },
  {
   "cell_type": "markdown",
   "metadata": {},
   "source": [
    "## Assessing tweets_df:"
   ]
  },
  {
   "cell_type": "code",
   "execution_count": 36,
   "metadata": {},
   "outputs": [
    {
     "data": {
      "text/html": [
       "<div>\n",
       "<style scoped>\n",
       "    .dataframe tbody tr th:only-of-type {\n",
       "        vertical-align: middle;\n",
       "    }\n",
       "\n",
       "    .dataframe tbody tr th {\n",
       "        vertical-align: top;\n",
       "    }\n",
       "\n",
       "    .dataframe thead th {\n",
       "        text-align: right;\n",
       "    }\n",
       "</style>\n",
       "<table border=\"1\" class=\"dataframe\">\n",
       "  <thead>\n",
       "    <tr style=\"text-align: right;\">\n",
       "      <th></th>\n",
       "      <th>tweet_id</th>\n",
       "      <th>retweets</th>\n",
       "      <th>favorites</th>\n",
       "    </tr>\n",
       "  </thead>\n",
       "  <tbody>\n",
       "    <tr>\n",
       "      <th>0</th>\n",
       "      <td>892420643555336193</td>\n",
       "      <td>8853</td>\n",
       "      <td>39467</td>\n",
       "    </tr>\n",
       "    <tr>\n",
       "      <th>1</th>\n",
       "      <td>892177421306343426</td>\n",
       "      <td>6514</td>\n",
       "      <td>33819</td>\n",
       "    </tr>\n",
       "    <tr>\n",
       "      <th>2</th>\n",
       "      <td>891815181378084864</td>\n",
       "      <td>4328</td>\n",
       "      <td>25461</td>\n",
       "    </tr>\n",
       "    <tr>\n",
       "      <th>3</th>\n",
       "      <td>891689557279858688</td>\n",
       "      <td>8964</td>\n",
       "      <td>42908</td>\n",
       "    </tr>\n",
       "    <tr>\n",
       "      <th>4</th>\n",
       "      <td>891327558926688256</td>\n",
       "      <td>9774</td>\n",
       "      <td>41048</td>\n",
       "    </tr>\n",
       "    <tr>\n",
       "      <th>5</th>\n",
       "      <td>891087950875897856</td>\n",
       "      <td>3261</td>\n",
       "      <td>20562</td>\n",
       "    </tr>\n",
       "    <tr>\n",
       "      <th>6</th>\n",
       "      <td>890971913173991426</td>\n",
       "      <td>2158</td>\n",
       "      <td>12041</td>\n",
       "    </tr>\n",
       "    <tr>\n",
       "      <th>7</th>\n",
       "      <td>890729181411237888</td>\n",
       "      <td>16716</td>\n",
       "      <td>56848</td>\n",
       "    </tr>\n",
       "  </tbody>\n",
       "</table>\n",
       "</div>"
      ],
      "text/plain": [
       "             tweet_id  retweets  favorites\n",
       "0  892420643555336193      8853      39467\n",
       "1  892177421306343426      6514      33819\n",
       "2  891815181378084864      4328      25461\n",
       "3  891689557279858688      8964      42908\n",
       "4  891327558926688256      9774      41048\n",
       "5  891087950875897856      3261      20562\n",
       "6  890971913173991426      2158      12041\n",
       "7  890729181411237888     16716      56848"
      ]
     },
     "execution_count": 36,
     "metadata": {},
     "output_type": "execute_result"
    }
   ],
   "source": [
    "tweets_df.head(8)"
   ]
  },
  {
   "cell_type": "code",
   "execution_count": 37,
   "metadata": {},
   "outputs": [
    {
     "data": {
      "text/plain": [
       "(2354, 3)"
      ]
     },
     "execution_count": 37,
     "metadata": {},
     "output_type": "execute_result"
    }
   ],
   "source": [
    "tweets_df.shape"
   ]
  },
  {
   "cell_type": "code",
   "execution_count": 38,
   "metadata": {},
   "outputs": [
    {
     "name": "stdout",
     "output_type": "stream",
     "text": [
      "<class 'pandas.core.frame.DataFrame'>\n",
      "RangeIndex: 2354 entries, 0 to 2353\n",
      "Data columns (total 3 columns):\n",
      " #   Column     Non-Null Count  Dtype\n",
      "---  ------     --------------  -----\n",
      " 0   tweet_id   2354 non-null   int64\n",
      " 1   retweets   2354 non-null   int64\n",
      " 2   favorites  2354 non-null   int64\n",
      "dtypes: int64(3)\n",
      "memory usage: 55.3 KB\n"
     ]
    }
   ],
   "source": [
    "tweets_df.info()"
   ]
  },
  {
   "cell_type": "code",
   "execution_count": 39,
   "metadata": {},
   "outputs": [
    {
     "data": {
      "text/html": [
       "<div>\n",
       "<style scoped>\n",
       "    .dataframe tbody tr th:only-of-type {\n",
       "        vertical-align: middle;\n",
       "    }\n",
       "\n",
       "    .dataframe tbody tr th {\n",
       "        vertical-align: top;\n",
       "    }\n",
       "\n",
       "    .dataframe thead th {\n",
       "        text-align: right;\n",
       "    }\n",
       "</style>\n",
       "<table border=\"1\" class=\"dataframe\">\n",
       "  <thead>\n",
       "    <tr style=\"text-align: right;\">\n",
       "      <th></th>\n",
       "      <th>tweet_id</th>\n",
       "      <th>retweets</th>\n",
       "      <th>favorites</th>\n",
       "    </tr>\n",
       "  </thead>\n",
       "  <tbody>\n",
       "  </tbody>\n",
       "</table>\n",
       "</div>"
      ],
      "text/plain": [
       "Empty DataFrame\n",
       "Columns: [tweet_id, retweets, favorites]\n",
       "Index: []"
      ]
     },
     "execution_count": 39,
     "metadata": {},
     "output_type": "execute_result"
    }
   ],
   "source": [
    "tweets_df[tweets_df.duplicated()]"
   ]
  },
  {
   "cell_type": "code",
   "execution_count": 40,
   "metadata": {},
   "outputs": [
    {
     "data": {
      "text/plain": [
       "tweet_id     0\n",
       "retweets     0\n",
       "favorites    0\n",
       "dtype: int64"
      ]
     },
     "execution_count": 40,
     "metadata": {},
     "output_type": "execute_result"
    }
   ],
   "source": [
    "tweets_df.isnull().sum()"
   ]
  },
  {
   "cell_type": "markdown",
   "metadata": {},
   "source": [
    "### Quality and Tidiness issues tweets_df:\n",
    "\n",
    "* There are 2356 tweets in the dataset twitter_archive_df but there are only 2354 in image_predictions_df dataset.\n",
    "\n",
    "\n",
    "* The column tweet_id is an integer nested of string.\n",
    "\n",
    "\n",
    "* This dataset should be merged with the previous two datasets."
   ]
  },
  {
   "cell_type": "markdown",
   "metadata": {
    "extensions": {
     "jupyter_dashboards": {
      "version": 1,
      "views": {
       "grid_default": {
        "col": 4,
        "height": 4,
        "hidden": false,
        "row": 32,
        "width": 4
       },
       "report_default": {
        "hidden": false
       }
      }
     }
    }
   },
   "source": [
    "# Cleaning Data\n",
    "In this section, clean **all** of the issues you documented while assessing. \n",
    "\n",
    "**Note:** Make a copy of the original data before cleaning. Cleaning includes merging individual pieces of data according to the rules of [tidy data](https://cran.r-project.org/web/packages/tidyr/vignettes/tidy-data.html). The result should be a high-quality and tidy master pandas DataFrame (or DataFrames, if appropriate)."
   ]
  },
  {
   "cell_type": "code",
   "execution_count": 41,
   "metadata": {},
   "outputs": [],
   "source": [
    "# Make copies of original pieces of data\n",
    "twitter_archive_clean_df=twitter_archive_df.copy()\n",
    "image_predictions_clean_df=image_predictions_df.copy()\n",
    "tweets_clean_df=tweets_df.copy()"
   ]
  },
  {
   "cell_type": "markdown",
   "metadata": {},
   "source": [
    "### Issue #1:There's many dataframe's it will be better if we merge it and clean it as one dataframe.\n",
    "### Issue #2: Solve the  mismatch number of tweets for the 3 dataframes.\n",
    "\n",
    "#### Hint: Issue's might be solve togather.."
   ]
  },
  {
   "cell_type": "markdown",
   "metadata": {},
   "source": [
    "#### Define: merge all the dataframes togather:"
   ]
  },
  {
   "cell_type": "markdown",
   "metadata": {},
   "source": [
    "#### Code"
   ]
  },
  {
   "cell_type": "code",
   "execution_count": 42,
   "metadata": {},
   "outputs": [],
   "source": [
    "merge_clean_df = reduce(lambda left,right: pd.merge(left,right,on='tweet_id'), [twitter_archive_clean_df, tweets_clean_df, image_predictions_clean_df])"
   ]
  },
  {
   "cell_type": "markdown",
   "metadata": {},
   "source": [
    "#### Test"
   ]
  },
  {
   "cell_type": "code",
   "execution_count": 43,
   "metadata": {},
   "outputs": [
    {
     "data": {
      "text/html": [
       "<div>\n",
       "<style scoped>\n",
       "    .dataframe tbody tr th:only-of-type {\n",
       "        vertical-align: middle;\n",
       "    }\n",
       "\n",
       "    .dataframe tbody tr th {\n",
       "        vertical-align: top;\n",
       "    }\n",
       "\n",
       "    .dataframe thead th {\n",
       "        text-align: right;\n",
       "    }\n",
       "</style>\n",
       "<table border=\"1\" class=\"dataframe\">\n",
       "  <thead>\n",
       "    <tr style=\"text-align: right;\">\n",
       "      <th></th>\n",
       "      <th>tweet_id</th>\n",
       "      <th>in_reply_to_status_id</th>\n",
       "      <th>in_reply_to_user_id</th>\n",
       "      <th>timestamp</th>\n",
       "      <th>source</th>\n",
       "      <th>text</th>\n",
       "      <th>retweeted_status_id</th>\n",
       "      <th>retweeted_status_user_id</th>\n",
       "      <th>retweeted_status_timestamp</th>\n",
       "      <th>expanded_urls</th>\n",
       "      <th>...</th>\n",
       "      <th>img_num</th>\n",
       "      <th>p1</th>\n",
       "      <th>p1_conf</th>\n",
       "      <th>p1_dog</th>\n",
       "      <th>p2</th>\n",
       "      <th>p2_conf</th>\n",
       "      <th>p2_dog</th>\n",
       "      <th>p3</th>\n",
       "      <th>p3_conf</th>\n",
       "      <th>p3_dog</th>\n",
       "    </tr>\n",
       "  </thead>\n",
       "  <tbody>\n",
       "    <tr>\n",
       "      <th>0</th>\n",
       "      <td>892420643555336193</td>\n",
       "      <td>NaN</td>\n",
       "      <td>NaN</td>\n",
       "      <td>2017-08-01 16:23:56 +0000</td>\n",
       "      <td>&lt;a href=\"http://twitter.com/download/iphone\" r...</td>\n",
       "      <td>This is Phineas. He's a mystical boy. Only eve...</td>\n",
       "      <td>NaN</td>\n",
       "      <td>NaN</td>\n",
       "      <td>NaN</td>\n",
       "      <td>https://twitter.com/dog_rates/status/892420643...</td>\n",
       "      <td>...</td>\n",
       "      <td>1</td>\n",
       "      <td>orange</td>\n",
       "      <td>0.097049</td>\n",
       "      <td>False</td>\n",
       "      <td>bagel</td>\n",
       "      <td>0.085851</td>\n",
       "      <td>False</td>\n",
       "      <td>banana</td>\n",
       "      <td>0.076110</td>\n",
       "      <td>False</td>\n",
       "    </tr>\n",
       "    <tr>\n",
       "      <th>1</th>\n",
       "      <td>892177421306343426</td>\n",
       "      <td>NaN</td>\n",
       "      <td>NaN</td>\n",
       "      <td>2017-08-01 00:17:27 +0000</td>\n",
       "      <td>&lt;a href=\"http://twitter.com/download/iphone\" r...</td>\n",
       "      <td>This is Tilly. She's just checking pup on you....</td>\n",
       "      <td>NaN</td>\n",
       "      <td>NaN</td>\n",
       "      <td>NaN</td>\n",
       "      <td>https://twitter.com/dog_rates/status/892177421...</td>\n",
       "      <td>...</td>\n",
       "      <td>1</td>\n",
       "      <td>Chihuahua</td>\n",
       "      <td>0.323581</td>\n",
       "      <td>True</td>\n",
       "      <td>Pekinese</td>\n",
       "      <td>0.090647</td>\n",
       "      <td>True</td>\n",
       "      <td>papillon</td>\n",
       "      <td>0.068957</td>\n",
       "      <td>True</td>\n",
       "    </tr>\n",
       "    <tr>\n",
       "      <th>2</th>\n",
       "      <td>891815181378084864</td>\n",
       "      <td>NaN</td>\n",
       "      <td>NaN</td>\n",
       "      <td>2017-07-31 00:18:03 +0000</td>\n",
       "      <td>&lt;a href=\"http://twitter.com/download/iphone\" r...</td>\n",
       "      <td>This is Archie. He is a rare Norwegian Pouncin...</td>\n",
       "      <td>NaN</td>\n",
       "      <td>NaN</td>\n",
       "      <td>NaN</td>\n",
       "      <td>https://twitter.com/dog_rates/status/891815181...</td>\n",
       "      <td>...</td>\n",
       "      <td>1</td>\n",
       "      <td>Chihuahua</td>\n",
       "      <td>0.716012</td>\n",
       "      <td>True</td>\n",
       "      <td>malamute</td>\n",
       "      <td>0.078253</td>\n",
       "      <td>True</td>\n",
       "      <td>kelpie</td>\n",
       "      <td>0.031379</td>\n",
       "      <td>True</td>\n",
       "    </tr>\n",
       "    <tr>\n",
       "      <th>3</th>\n",
       "      <td>891689557279858688</td>\n",
       "      <td>NaN</td>\n",
       "      <td>NaN</td>\n",
       "      <td>2017-07-30 15:58:51 +0000</td>\n",
       "      <td>&lt;a href=\"http://twitter.com/download/iphone\" r...</td>\n",
       "      <td>This is Darla. She commenced a snooze mid meal...</td>\n",
       "      <td>NaN</td>\n",
       "      <td>NaN</td>\n",
       "      <td>NaN</td>\n",
       "      <td>https://twitter.com/dog_rates/status/891689557...</td>\n",
       "      <td>...</td>\n",
       "      <td>1</td>\n",
       "      <td>paper_towel</td>\n",
       "      <td>0.170278</td>\n",
       "      <td>False</td>\n",
       "      <td>Labrador_retriever</td>\n",
       "      <td>0.168086</td>\n",
       "      <td>True</td>\n",
       "      <td>spatula</td>\n",
       "      <td>0.040836</td>\n",
       "      <td>False</td>\n",
       "    </tr>\n",
       "  </tbody>\n",
       "</table>\n",
       "<p>4 rows × 30 columns</p>\n",
       "</div>"
      ],
      "text/plain": [
       "             tweet_id  in_reply_to_status_id  in_reply_to_user_id  \\\n",
       "0  892420643555336193                    NaN                  NaN   \n",
       "1  892177421306343426                    NaN                  NaN   \n",
       "2  891815181378084864                    NaN                  NaN   \n",
       "3  891689557279858688                    NaN                  NaN   \n",
       "\n",
       "                   timestamp  \\\n",
       "0  2017-08-01 16:23:56 +0000   \n",
       "1  2017-08-01 00:17:27 +0000   \n",
       "2  2017-07-31 00:18:03 +0000   \n",
       "3  2017-07-30 15:58:51 +0000   \n",
       "\n",
       "                                              source  \\\n",
       "0  <a href=\"http://twitter.com/download/iphone\" r...   \n",
       "1  <a href=\"http://twitter.com/download/iphone\" r...   \n",
       "2  <a href=\"http://twitter.com/download/iphone\" r...   \n",
       "3  <a href=\"http://twitter.com/download/iphone\" r...   \n",
       "\n",
       "                                                text  retweeted_status_id  \\\n",
       "0  This is Phineas. He's a mystical boy. Only eve...                  NaN   \n",
       "1  This is Tilly. She's just checking pup on you....                  NaN   \n",
       "2  This is Archie. He is a rare Norwegian Pouncin...                  NaN   \n",
       "3  This is Darla. She commenced a snooze mid meal...                  NaN   \n",
       "\n",
       "   retweeted_status_user_id retweeted_status_timestamp  \\\n",
       "0                       NaN                        NaN   \n",
       "1                       NaN                        NaN   \n",
       "2                       NaN                        NaN   \n",
       "3                       NaN                        NaN   \n",
       "\n",
       "                                       expanded_urls  ...  img_num  \\\n",
       "0  https://twitter.com/dog_rates/status/892420643...  ...        1   \n",
       "1  https://twitter.com/dog_rates/status/892177421...  ...        1   \n",
       "2  https://twitter.com/dog_rates/status/891815181...  ...        1   \n",
       "3  https://twitter.com/dog_rates/status/891689557...  ...        1   \n",
       "\n",
       "            p1   p1_conf p1_dog                  p2   p2_conf p2_dog  \\\n",
       "0       orange  0.097049  False               bagel  0.085851  False   \n",
       "1    Chihuahua  0.323581   True            Pekinese  0.090647   True   \n",
       "2    Chihuahua  0.716012   True            malamute  0.078253   True   \n",
       "3  paper_towel  0.170278  False  Labrador_retriever  0.168086   True   \n",
       "\n",
       "         p3   p3_conf p3_dog  \n",
       "0    banana  0.076110  False  \n",
       "1  papillon  0.068957   True  \n",
       "2    kelpie  0.031379   True  \n",
       "3   spatula  0.040836  False  \n",
       "\n",
       "[4 rows x 30 columns]"
      ]
     },
     "execution_count": 43,
     "metadata": {},
     "output_type": "execute_result"
    }
   ],
   "source": [
    "merge_clean_df.head(4)"
   ]
  },
  {
   "cell_type": "code",
   "execution_count": 44,
   "metadata": {},
   "outputs": [
    {
     "name": "stdout",
     "output_type": "stream",
     "text": [
      "<class 'pandas.core.frame.DataFrame'>\n",
      "Int64Index: 2073 entries, 0 to 2072\n",
      "Data columns (total 30 columns):\n",
      " #   Column                      Non-Null Count  Dtype  \n",
      "---  ------                      --------------  -----  \n",
      " 0   tweet_id                    2073 non-null   int64  \n",
      " 1   in_reply_to_status_id       23 non-null     float64\n",
      " 2   in_reply_to_user_id         23 non-null     float64\n",
      " 3   timestamp                   2073 non-null   object \n",
      " 4   source                      2073 non-null   object \n",
      " 5   text                        2073 non-null   object \n",
      " 6   retweeted_status_id         79 non-null     float64\n",
      " 7   retweeted_status_user_id    79 non-null     float64\n",
      " 8   retweeted_status_timestamp  79 non-null     object \n",
      " 9   expanded_urls               2073 non-null   object \n",
      " 10  rating_numerator            2073 non-null   int64  \n",
      " 11  rating_denominator          2073 non-null   int64  \n",
      " 12  name                        2073 non-null   object \n",
      " 13  doggo                       2073 non-null   object \n",
      " 14  floofer                     2073 non-null   object \n",
      " 15  pupper                      2073 non-null   object \n",
      " 16  puppo                       2073 non-null   object \n",
      " 17  retweets                    2073 non-null   int64  \n",
      " 18  favorites                   2073 non-null   int64  \n",
      " 19  jpg_url                     2073 non-null   object \n",
      " 20  img_num                     2073 non-null   int64  \n",
      " 21  p1                          2073 non-null   object \n",
      " 22  p1_conf                     2073 non-null   float64\n",
      " 23  p1_dog                      2073 non-null   bool   \n",
      " 24  p2                          2073 non-null   object \n",
      " 25  p2_conf                     2073 non-null   float64\n",
      " 26  p2_dog                      2073 non-null   bool   \n",
      " 27  p3                          2073 non-null   object \n",
      " 28  p3_conf                     2073 non-null   float64\n",
      " 29  p3_dog                      2073 non-null   bool   \n",
      "dtypes: bool(3), float64(7), int64(6), object(14)\n",
      "memory usage: 459.5+ KB\n"
     ]
    }
   ],
   "source": [
    "merge_clean_df.info()"
   ]
  },
  {
   "cell_type": "markdown",
   "metadata": {},
   "source": [
    "### Issue #3:some of the gathered tweets are retweets:"
   ]
  },
  {
   "cell_type": "markdown",
   "metadata": {},
   "source": [
    "#### Define: some of the gathered tweets are retweets and it should be removed."
   ]
  },
  {
   "cell_type": "markdown",
   "metadata": {},
   "source": [
    "#### Code"
   ]
  },
  {
   "cell_type": "code",
   "execution_count": 45,
   "metadata": {},
   "outputs": [],
   "source": [
    "merge_clean_df = merge_clean_df[merge_clean_df['retweeted_status_id'].isnull()]"
   ]
  },
  {
   "cell_type": "markdown",
   "metadata": {},
   "source": [
    "#### Test"
   ]
  },
  {
   "cell_type": "code",
   "execution_count": 46,
   "metadata": {},
   "outputs": [
    {
     "data": {
      "text/plain": [
       "0"
      ]
     },
     "execution_count": 46,
     "metadata": {},
     "output_type": "execute_result"
    }
   ],
   "source": [
    "retweeted_sum=merge_clean_df.retweeted_status_id.value_counts()\n",
    "sum(retweeted_sum)"
   ]
  },
  {
   "cell_type": "markdown",
   "metadata": {},
   "source": [
    "### Issue #4: there's unnecessary columns:"
   ]
  },
  {
   "cell_type": "markdown",
   "metadata": {
    "collapsed": true,
    "extensions": {
     "jupyter_dashboards": {
      "version": 1,
      "views": {
       "grid_default": {
        "hidden": true
       },
       "report_default": {
        "hidden": true
       }
      }
     }
    }
   },
   "source": [
    "#### Define: drop the unnecessary columns:"
   ]
  },
  {
   "cell_type": "markdown",
   "metadata": {},
   "source": [
    "#### Code"
   ]
  },
  {
   "cell_type": "code",
   "execution_count": 47,
   "metadata": {},
   "outputs": [],
   "source": [
    "merge_clean_df.drop([\"in_reply_to_status_id\", \"in_reply_to_user_id\",\"retweeted_status_id\", \"retweeted_status_user_id\", \n",
    "                      \"retweeted_status_timestamp\"], inplace=True, axis = 1)"
   ]
  },
  {
   "cell_type": "markdown",
   "metadata": {},
   "source": [
    "#### Test"
   ]
  },
  {
   "cell_type": "code",
   "execution_count": 48,
   "metadata": {},
   "outputs": [
    {
     "data": {
      "text/html": [
       "<div>\n",
       "<style scoped>\n",
       "    .dataframe tbody tr th:only-of-type {\n",
       "        vertical-align: middle;\n",
       "    }\n",
       "\n",
       "    .dataframe tbody tr th {\n",
       "        vertical-align: top;\n",
       "    }\n",
       "\n",
       "    .dataframe thead th {\n",
       "        text-align: right;\n",
       "    }\n",
       "</style>\n",
       "<table border=\"1\" class=\"dataframe\">\n",
       "  <thead>\n",
       "    <tr style=\"text-align: right;\">\n",
       "      <th></th>\n",
       "      <th>tweet_id</th>\n",
       "      <th>timestamp</th>\n",
       "      <th>source</th>\n",
       "      <th>text</th>\n",
       "      <th>expanded_urls</th>\n",
       "      <th>rating_numerator</th>\n",
       "      <th>rating_denominator</th>\n",
       "      <th>name</th>\n",
       "      <th>doggo</th>\n",
       "      <th>floofer</th>\n",
       "      <th>...</th>\n",
       "      <th>img_num</th>\n",
       "      <th>p1</th>\n",
       "      <th>p1_conf</th>\n",
       "      <th>p1_dog</th>\n",
       "      <th>p2</th>\n",
       "      <th>p2_conf</th>\n",
       "      <th>p2_dog</th>\n",
       "      <th>p3</th>\n",
       "      <th>p3_conf</th>\n",
       "      <th>p3_dog</th>\n",
       "    </tr>\n",
       "  </thead>\n",
       "  <tbody>\n",
       "    <tr>\n",
       "      <th>0</th>\n",
       "      <td>892420643555336193</td>\n",
       "      <td>2017-08-01 16:23:56 +0000</td>\n",
       "      <td>&lt;a href=\"http://twitter.com/download/iphone\" r...</td>\n",
       "      <td>This is Phineas. He's a mystical boy. Only eve...</td>\n",
       "      <td>https://twitter.com/dog_rates/status/892420643...</td>\n",
       "      <td>13</td>\n",
       "      <td>10</td>\n",
       "      <td>Phineas</td>\n",
       "      <td>None</td>\n",
       "      <td>None</td>\n",
       "      <td>...</td>\n",
       "      <td>1</td>\n",
       "      <td>orange</td>\n",
       "      <td>0.097049</td>\n",
       "      <td>False</td>\n",
       "      <td>bagel</td>\n",
       "      <td>0.085851</td>\n",
       "      <td>False</td>\n",
       "      <td>banana</td>\n",
       "      <td>0.076110</td>\n",
       "      <td>False</td>\n",
       "    </tr>\n",
       "    <tr>\n",
       "      <th>1</th>\n",
       "      <td>892177421306343426</td>\n",
       "      <td>2017-08-01 00:17:27 +0000</td>\n",
       "      <td>&lt;a href=\"http://twitter.com/download/iphone\" r...</td>\n",
       "      <td>This is Tilly. She's just checking pup on you....</td>\n",
       "      <td>https://twitter.com/dog_rates/status/892177421...</td>\n",
       "      <td>13</td>\n",
       "      <td>10</td>\n",
       "      <td>Tilly</td>\n",
       "      <td>None</td>\n",
       "      <td>None</td>\n",
       "      <td>...</td>\n",
       "      <td>1</td>\n",
       "      <td>Chihuahua</td>\n",
       "      <td>0.323581</td>\n",
       "      <td>True</td>\n",
       "      <td>Pekinese</td>\n",
       "      <td>0.090647</td>\n",
       "      <td>True</td>\n",
       "      <td>papillon</td>\n",
       "      <td>0.068957</td>\n",
       "      <td>True</td>\n",
       "    </tr>\n",
       "    <tr>\n",
       "      <th>2</th>\n",
       "      <td>891815181378084864</td>\n",
       "      <td>2017-07-31 00:18:03 +0000</td>\n",
       "      <td>&lt;a href=\"http://twitter.com/download/iphone\" r...</td>\n",
       "      <td>This is Archie. He is a rare Norwegian Pouncin...</td>\n",
       "      <td>https://twitter.com/dog_rates/status/891815181...</td>\n",
       "      <td>12</td>\n",
       "      <td>10</td>\n",
       "      <td>Archie</td>\n",
       "      <td>None</td>\n",
       "      <td>None</td>\n",
       "      <td>...</td>\n",
       "      <td>1</td>\n",
       "      <td>Chihuahua</td>\n",
       "      <td>0.716012</td>\n",
       "      <td>True</td>\n",
       "      <td>malamute</td>\n",
       "      <td>0.078253</td>\n",
       "      <td>True</td>\n",
       "      <td>kelpie</td>\n",
       "      <td>0.031379</td>\n",
       "      <td>True</td>\n",
       "    </tr>\n",
       "    <tr>\n",
       "      <th>3</th>\n",
       "      <td>891689557279858688</td>\n",
       "      <td>2017-07-30 15:58:51 +0000</td>\n",
       "      <td>&lt;a href=\"http://twitter.com/download/iphone\" r...</td>\n",
       "      <td>This is Darla. She commenced a snooze mid meal...</td>\n",
       "      <td>https://twitter.com/dog_rates/status/891689557...</td>\n",
       "      <td>13</td>\n",
       "      <td>10</td>\n",
       "      <td>Darla</td>\n",
       "      <td>None</td>\n",
       "      <td>None</td>\n",
       "      <td>...</td>\n",
       "      <td>1</td>\n",
       "      <td>paper_towel</td>\n",
       "      <td>0.170278</td>\n",
       "      <td>False</td>\n",
       "      <td>Labrador_retriever</td>\n",
       "      <td>0.168086</td>\n",
       "      <td>True</td>\n",
       "      <td>spatula</td>\n",
       "      <td>0.040836</td>\n",
       "      <td>False</td>\n",
       "    </tr>\n",
       "  </tbody>\n",
       "</table>\n",
       "<p>4 rows × 25 columns</p>\n",
       "</div>"
      ],
      "text/plain": [
       "             tweet_id                  timestamp  \\\n",
       "0  892420643555336193  2017-08-01 16:23:56 +0000   \n",
       "1  892177421306343426  2017-08-01 00:17:27 +0000   \n",
       "2  891815181378084864  2017-07-31 00:18:03 +0000   \n",
       "3  891689557279858688  2017-07-30 15:58:51 +0000   \n",
       "\n",
       "                                              source  \\\n",
       "0  <a href=\"http://twitter.com/download/iphone\" r...   \n",
       "1  <a href=\"http://twitter.com/download/iphone\" r...   \n",
       "2  <a href=\"http://twitter.com/download/iphone\" r...   \n",
       "3  <a href=\"http://twitter.com/download/iphone\" r...   \n",
       "\n",
       "                                                text  \\\n",
       "0  This is Phineas. He's a mystical boy. Only eve...   \n",
       "1  This is Tilly. She's just checking pup on you....   \n",
       "2  This is Archie. He is a rare Norwegian Pouncin...   \n",
       "3  This is Darla. She commenced a snooze mid meal...   \n",
       "\n",
       "                                       expanded_urls  rating_numerator  \\\n",
       "0  https://twitter.com/dog_rates/status/892420643...                13   \n",
       "1  https://twitter.com/dog_rates/status/892177421...                13   \n",
       "2  https://twitter.com/dog_rates/status/891815181...                12   \n",
       "3  https://twitter.com/dog_rates/status/891689557...                13   \n",
       "\n",
       "   rating_denominator     name doggo floofer  ... img_num           p1  \\\n",
       "0                  10  Phineas  None    None  ...       1       orange   \n",
       "1                  10    Tilly  None    None  ...       1    Chihuahua   \n",
       "2                  10   Archie  None    None  ...       1    Chihuahua   \n",
       "3                  10    Darla  None    None  ...       1  paper_towel   \n",
       "\n",
       "    p1_conf  p1_dog                  p2   p2_conf p2_dog        p3   p3_conf  \\\n",
       "0  0.097049   False               bagel  0.085851  False    banana  0.076110   \n",
       "1  0.323581    True            Pekinese  0.090647   True  papillon  0.068957   \n",
       "2  0.716012    True            malamute  0.078253   True    kelpie  0.031379   \n",
       "3  0.170278   False  Labrador_retriever  0.168086   True   spatula  0.040836   \n",
       "\n",
       "  p3_dog  \n",
       "0  False  \n",
       "1   True  \n",
       "2   True  \n",
       "3  False  \n",
       "\n",
       "[4 rows x 25 columns]"
      ]
     },
     "execution_count": 48,
     "metadata": {},
     "output_type": "execute_result"
    }
   ],
   "source": [
    "merge_clean_df.head(4)"
   ]
  },
  {
   "cell_type": "code",
   "execution_count": 49,
   "metadata": {},
   "outputs": [
    {
     "name": "stdout",
     "output_type": "stream",
     "text": [
      "<class 'pandas.core.frame.DataFrame'>\n",
      "Int64Index: 1994 entries, 0 to 2072\n",
      "Data columns (total 25 columns):\n",
      " #   Column              Non-Null Count  Dtype  \n",
      "---  ------              --------------  -----  \n",
      " 0   tweet_id            1994 non-null   int64  \n",
      " 1   timestamp           1994 non-null   object \n",
      " 2   source              1994 non-null   object \n",
      " 3   text                1994 non-null   object \n",
      " 4   expanded_urls       1994 non-null   object \n",
      " 5   rating_numerator    1994 non-null   int64  \n",
      " 6   rating_denominator  1994 non-null   int64  \n",
      " 7   name                1994 non-null   object \n",
      " 8   doggo               1994 non-null   object \n",
      " 9   floofer             1994 non-null   object \n",
      " 10  pupper              1994 non-null   object \n",
      " 11  puppo               1994 non-null   object \n",
      " 12  retweets            1994 non-null   int64  \n",
      " 13  favorites           1994 non-null   int64  \n",
      " 14  jpg_url             1994 non-null   object \n",
      " 15  img_num             1994 non-null   int64  \n",
      " 16  p1                  1994 non-null   object \n",
      " 17  p1_conf             1994 non-null   float64\n",
      " 18  p1_dog              1994 non-null   bool   \n",
      " 19  p2                  1994 non-null   object \n",
      " 20  p2_conf             1994 non-null   float64\n",
      " 21  p2_dog              1994 non-null   bool   \n",
      " 22  p3                  1994 non-null   object \n",
      " 23  p3_conf             1994 non-null   float64\n",
      " 24  p3_dog              1994 non-null   bool   \n",
      "dtypes: bool(3), float64(3), int64(6), object(13)\n",
      "memory usage: 364.1+ KB\n"
     ]
    }
   ],
   "source": [
    "merge_clean_df.info()"
   ]
  },
  {
   "cell_type": "markdown",
   "metadata": {},
   "source": [
    "### Issue #5: The column tweet_id is an integer nested of string:"
   ]
  },
  {
   "cell_type": "markdown",
   "metadata": {},
   "source": [
    "#### Define: change tweet_id from integer to string"
   ]
  },
  {
   "cell_type": "markdown",
   "metadata": {},
   "source": [
    "#### code"
   ]
  },
  {
   "cell_type": "code",
   "execution_count": 50,
   "metadata": {},
   "outputs": [],
   "source": [
    "merge_clean_df['tweet_id'] = merge_clean_df['tweet_id'].astype(str)"
   ]
  },
  {
   "cell_type": "markdown",
   "metadata": {},
   "source": [
    "#### Test"
   ]
  },
  {
   "cell_type": "code",
   "execution_count": 51,
   "metadata": {},
   "outputs": [
    {
     "name": "stdout",
     "output_type": "stream",
     "text": [
      "<class 'pandas.core.frame.DataFrame'>\n",
      "Int64Index: 1994 entries, 0 to 2072\n",
      "Data columns (total 25 columns):\n",
      " #   Column              Non-Null Count  Dtype  \n",
      "---  ------              --------------  -----  \n",
      " 0   tweet_id            1994 non-null   object \n",
      " 1   timestamp           1994 non-null   object \n",
      " 2   source              1994 non-null   object \n",
      " 3   text                1994 non-null   object \n",
      " 4   expanded_urls       1994 non-null   object \n",
      " 5   rating_numerator    1994 non-null   int64  \n",
      " 6   rating_denominator  1994 non-null   int64  \n",
      " 7   name                1994 non-null   object \n",
      " 8   doggo               1994 non-null   object \n",
      " 9   floofer             1994 non-null   object \n",
      " 10  pupper              1994 non-null   object \n",
      " 11  puppo               1994 non-null   object \n",
      " 12  retweets            1994 non-null   int64  \n",
      " 13  favorites           1994 non-null   int64  \n",
      " 14  jpg_url             1994 non-null   object \n",
      " 15  img_num             1994 non-null   int64  \n",
      " 16  p1                  1994 non-null   object \n",
      " 17  p1_conf             1994 non-null   float64\n",
      " 18  p1_dog              1994 non-null   bool   \n",
      " 19  p2                  1994 non-null   object \n",
      " 20  p2_conf             1994 non-null   float64\n",
      " 21  p2_dog              1994 non-null   bool   \n",
      " 22  p3                  1994 non-null   object \n",
      " 23  p3_conf             1994 non-null   float64\n",
      " 24  p3_dog              1994 non-null   bool   \n",
      "dtypes: bool(3), float64(3), int64(5), object(14)\n",
      "memory usage: 364.1+ KB\n"
     ]
    }
   ],
   "source": [
    "merge_clean_df.info()"
   ]
  },
  {
   "cell_type": "markdown",
   "metadata": {},
   "source": [
    "### Issue #6: The column timestamp is type of string nested of datetime:"
   ]
  },
  {
   "cell_type": "markdown",
   "metadata": {},
   "source": [
    "#### Define: change the column timestamp from string to datetime"
   ]
  },
  {
   "cell_type": "markdown",
   "metadata": {},
   "source": [
    "#### Code"
   ]
  },
  {
   "cell_type": "code",
   "execution_count": 52,
   "metadata": {},
   "outputs": [],
   "source": [
    "merge_clean_df.timestamp = pd.to_datetime(merge_clean_df.timestamp)"
   ]
  },
  {
   "cell_type": "markdown",
   "metadata": {},
   "source": [
    "#### Test"
   ]
  },
  {
   "cell_type": "code",
   "execution_count": 53,
   "metadata": {},
   "outputs": [
    {
     "name": "stdout",
     "output_type": "stream",
     "text": [
      "<class 'pandas.core.frame.DataFrame'>\n",
      "Int64Index: 1994 entries, 0 to 2072\n",
      "Data columns (total 25 columns):\n",
      " #   Column              Non-Null Count  Dtype              \n",
      "---  ------              --------------  -----              \n",
      " 0   tweet_id            1994 non-null   object             \n",
      " 1   timestamp           1994 non-null   datetime64[ns, UTC]\n",
      " 2   source              1994 non-null   object             \n",
      " 3   text                1994 non-null   object             \n",
      " 4   expanded_urls       1994 non-null   object             \n",
      " 5   rating_numerator    1994 non-null   int64              \n",
      " 6   rating_denominator  1994 non-null   int64              \n",
      " 7   name                1994 non-null   object             \n",
      " 8   doggo               1994 non-null   object             \n",
      " 9   floofer             1994 non-null   object             \n",
      " 10  pupper              1994 non-null   object             \n",
      " 11  puppo               1994 non-null   object             \n",
      " 12  retweets            1994 non-null   int64              \n",
      " 13  favorites           1994 non-null   int64              \n",
      " 14  jpg_url             1994 non-null   object             \n",
      " 15  img_num             1994 non-null   int64              \n",
      " 16  p1                  1994 non-null   object             \n",
      " 17  p1_conf             1994 non-null   float64            \n",
      " 18  p1_dog              1994 non-null   bool               \n",
      " 19  p2                  1994 non-null   object             \n",
      " 20  p2_conf             1994 non-null   float64            \n",
      " 21  p2_dog              1994 non-null   bool               \n",
      " 22  p3                  1994 non-null   object             \n",
      " 23  p3_conf             1994 non-null   float64            \n",
      " 24  p3_dog              1994 non-null   bool               \n",
      "dtypes: bool(3), datetime64[ns, UTC](1), float64(3), int64(5), object(13)\n",
      "memory usage: 364.1+ KB\n"
     ]
    }
   ],
   "source": [
    "merge_clean_df.info()"
   ]
  },
  {
   "cell_type": "markdown",
   "metadata": {},
   "source": [
    "### Issue #7: Some dog names aren't real or valid like \"a, an, mad, his, not, old, my, such...etc\":\n",
    "### Issue #8: There're a lot of None value's in dog name columns:"
   ]
  },
  {
   "cell_type": "markdown",
   "metadata": {},
   "source": [
    "#### Define: we need to change these dogs names to NaN because it seems it was extract in a wrong way from the tweets and fix the None's by replacing it with NaN."
   ]
  },
  {
   "cell_type": "markdown",
   "metadata": {},
   "source": [
    "#### Code"
   ]
  },
  {
   "cell_type": "code",
   "execution_count": 54,
   "metadata": {},
   "outputs": [
    {
     "name": "stderr",
     "output_type": "stream",
     "text": [
      "C:\\Users\\User\\AppData\\Local\\Temp\\ipykernel_7800\\2323365512.py:4: SettingWithCopyWarning: \n",
      "A value is trying to be set on a copy of a slice from a DataFrame\n",
      "\n",
      "See the caveats in the documentation: https://pandas.pydata.org/pandas-docs/stable/user_guide/indexing.html#returning-a-view-versus-a-copy\n",
      "  merge_clean_df.name[merge_clean_df.name == Xname] = 'NaN'\n",
      "C:\\Users\\User\\AppData\\Local\\Temp\\ipykernel_7800\\2323365512.py:4: SettingWithCopyWarning: \n",
      "A value is trying to be set on a copy of a slice from a DataFrame\n",
      "\n",
      "See the caveats in the documentation: https://pandas.pydata.org/pandas-docs/stable/user_guide/indexing.html#returning-a-view-versus-a-copy\n",
      "  merge_clean_df.name[merge_clean_df.name == Xname] = 'NaN'\n",
      "C:\\Users\\User\\AppData\\Local\\Temp\\ipykernel_7800\\2323365512.py:4: SettingWithCopyWarning: \n",
      "A value is trying to be set on a copy of a slice from a DataFrame\n",
      "\n",
      "See the caveats in the documentation: https://pandas.pydata.org/pandas-docs/stable/user_guide/indexing.html#returning-a-view-versus-a-copy\n",
      "  merge_clean_df.name[merge_clean_df.name == Xname] = 'NaN'\n",
      "C:\\Users\\User\\AppData\\Local\\Temp\\ipykernel_7800\\2323365512.py:4: SettingWithCopyWarning: \n",
      "A value is trying to be set on a copy of a slice from a DataFrame\n",
      "\n",
      "See the caveats in the documentation: https://pandas.pydata.org/pandas-docs/stable/user_guide/indexing.html#returning-a-view-versus-a-copy\n",
      "  merge_clean_df.name[merge_clean_df.name == Xname] = 'NaN'\n",
      "C:\\Users\\User\\AppData\\Local\\Temp\\ipykernel_7800\\2323365512.py:4: SettingWithCopyWarning: \n",
      "A value is trying to be set on a copy of a slice from a DataFrame\n",
      "\n",
      "See the caveats in the documentation: https://pandas.pydata.org/pandas-docs/stable/user_guide/indexing.html#returning-a-view-versus-a-copy\n",
      "  merge_clean_df.name[merge_clean_df.name == Xname] = 'NaN'\n",
      "C:\\Users\\User\\AppData\\Local\\Temp\\ipykernel_7800\\2323365512.py:4: SettingWithCopyWarning: \n",
      "A value is trying to be set on a copy of a slice from a DataFrame\n",
      "\n",
      "See the caveats in the documentation: https://pandas.pydata.org/pandas-docs/stable/user_guide/indexing.html#returning-a-view-versus-a-copy\n",
      "  merge_clean_df.name[merge_clean_df.name == Xname] = 'NaN'\n",
      "C:\\Users\\User\\AppData\\Local\\Temp\\ipykernel_7800\\2323365512.py:4: SettingWithCopyWarning: \n",
      "A value is trying to be set on a copy of a slice from a DataFrame\n",
      "\n",
      "See the caveats in the documentation: https://pandas.pydata.org/pandas-docs/stable/user_guide/indexing.html#returning-a-view-versus-a-copy\n",
      "  merge_clean_df.name[merge_clean_df.name == Xname] = 'NaN'\n",
      "C:\\Users\\User\\AppData\\Local\\Temp\\ipykernel_7800\\2323365512.py:4: SettingWithCopyWarning: \n",
      "A value is trying to be set on a copy of a slice from a DataFrame\n",
      "\n",
      "See the caveats in the documentation: https://pandas.pydata.org/pandas-docs/stable/user_guide/indexing.html#returning-a-view-versus-a-copy\n",
      "  merge_clean_df.name[merge_clean_df.name == Xname] = 'NaN'\n",
      "C:\\Users\\User\\AppData\\Local\\Temp\\ipykernel_7800\\2323365512.py:4: SettingWithCopyWarning: \n",
      "A value is trying to be set on a copy of a slice from a DataFrame\n",
      "\n",
      "See the caveats in the documentation: https://pandas.pydata.org/pandas-docs/stable/user_guide/indexing.html#returning-a-view-versus-a-copy\n",
      "  merge_clean_df.name[merge_clean_df.name == Xname] = 'NaN'\n",
      "C:\\Users\\User\\AppData\\Local\\Temp\\ipykernel_7800\\2323365512.py:4: SettingWithCopyWarning: \n",
      "A value is trying to be set on a copy of a slice from a DataFrame\n",
      "\n",
      "See the caveats in the documentation: https://pandas.pydata.org/pandas-docs/stable/user_guide/indexing.html#returning-a-view-versus-a-copy\n",
      "  merge_clean_df.name[merge_clean_df.name == Xname] = 'NaN'\n",
      "C:\\Users\\User\\AppData\\Local\\Temp\\ipykernel_7800\\2323365512.py:4: SettingWithCopyWarning: \n",
      "A value is trying to be set on a copy of a slice from a DataFrame\n",
      "\n",
      "See the caveats in the documentation: https://pandas.pydata.org/pandas-docs/stable/user_guide/indexing.html#returning-a-view-versus-a-copy\n",
      "  merge_clean_df.name[merge_clean_df.name == Xname] = 'NaN'\n",
      "C:\\Users\\User\\AppData\\Local\\Temp\\ipykernel_7800\\2323365512.py:4: SettingWithCopyWarning: \n",
      "A value is trying to be set on a copy of a slice from a DataFrame\n",
      "\n",
      "See the caveats in the documentation: https://pandas.pydata.org/pandas-docs/stable/user_guide/indexing.html#returning-a-view-versus-a-copy\n",
      "  merge_clean_df.name[merge_clean_df.name == Xname] = 'NaN'\n",
      "C:\\Users\\User\\AppData\\Local\\Temp\\ipykernel_7800\\2323365512.py:4: SettingWithCopyWarning: \n",
      "A value is trying to be set on a copy of a slice from a DataFrame\n",
      "\n",
      "See the caveats in the documentation: https://pandas.pydata.org/pandas-docs/stable/user_guide/indexing.html#returning-a-view-versus-a-copy\n",
      "  merge_clean_df.name[merge_clean_df.name == Xname] = 'NaN'\n",
      "C:\\Users\\User\\AppData\\Local\\Temp\\ipykernel_7800\\2323365512.py:4: SettingWithCopyWarning: \n",
      "A value is trying to be set on a copy of a slice from a DataFrame\n",
      "\n",
      "See the caveats in the documentation: https://pandas.pydata.org/pandas-docs/stable/user_guide/indexing.html#returning-a-view-versus-a-copy\n",
      "  merge_clean_df.name[merge_clean_df.name == Xname] = 'NaN'\n",
      "C:\\Users\\User\\AppData\\Local\\Temp\\ipykernel_7800\\2323365512.py:4: SettingWithCopyWarning: \n",
      "A value is trying to be set on a copy of a slice from a DataFrame\n",
      "\n",
      "See the caveats in the documentation: https://pandas.pydata.org/pandas-docs/stable/user_guide/indexing.html#returning-a-view-versus-a-copy\n",
      "  merge_clean_df.name[merge_clean_df.name == Xname] = 'NaN'\n",
      "C:\\Users\\User\\AppData\\Local\\Temp\\ipykernel_7800\\2323365512.py:4: SettingWithCopyWarning: \n",
      "A value is trying to be set on a copy of a slice from a DataFrame\n",
      "\n",
      "See the caveats in the documentation: https://pandas.pydata.org/pandas-docs/stable/user_guide/indexing.html#returning-a-view-versus-a-copy\n",
      "  merge_clean_df.name[merge_clean_df.name == Xname] = 'NaN'\n",
      "C:\\Users\\User\\AppData\\Local\\Temp\\ipykernel_7800\\2323365512.py:4: SettingWithCopyWarning: \n",
      "A value is trying to be set on a copy of a slice from a DataFrame\n",
      "\n",
      "See the caveats in the documentation: https://pandas.pydata.org/pandas-docs/stable/user_guide/indexing.html#returning-a-view-versus-a-copy\n",
      "  merge_clean_df.name[merge_clean_df.name == Xname] = 'NaN'\n",
      "C:\\Users\\User\\AppData\\Local\\Temp\\ipykernel_7800\\2323365512.py:4: SettingWithCopyWarning: \n",
      "A value is trying to be set on a copy of a slice from a DataFrame\n",
      "\n",
      "See the caveats in the documentation: https://pandas.pydata.org/pandas-docs/stable/user_guide/indexing.html#returning-a-view-versus-a-copy\n",
      "  merge_clean_df.name[merge_clean_df.name == Xname] = 'NaN'\n",
      "C:\\Users\\User\\AppData\\Local\\Temp\\ipykernel_7800\\2323365512.py:4: SettingWithCopyWarning: \n",
      "A value is trying to be set on a copy of a slice from a DataFrame\n",
      "\n",
      "See the caveats in the documentation: https://pandas.pydata.org/pandas-docs/stable/user_guide/indexing.html#returning-a-view-versus-a-copy\n",
      "  merge_clean_df.name[merge_clean_df.name == Xname] = 'NaN'\n",
      "C:\\Users\\User\\AppData\\Local\\Temp\\ipykernel_7800\\2323365512.py:4: SettingWithCopyWarning: \n",
      "A value is trying to be set on a copy of a slice from a DataFrame\n",
      "\n",
      "See the caveats in the documentation: https://pandas.pydata.org/pandas-docs/stable/user_guide/indexing.html#returning-a-view-versus-a-copy\n",
      "  merge_clean_df.name[merge_clean_df.name == Xname] = 'NaN'\n",
      "C:\\Users\\User\\AppData\\Local\\Temp\\ipykernel_7800\\2323365512.py:4: SettingWithCopyWarning: \n",
      "A value is trying to be set on a copy of a slice from a DataFrame\n",
      "\n",
      "See the caveats in the documentation: https://pandas.pydata.org/pandas-docs/stable/user_guide/indexing.html#returning-a-view-versus-a-copy\n",
      "  merge_clean_df.name[merge_clean_df.name == Xname] = 'NaN'\n",
      "C:\\Users\\User\\AppData\\Local\\Temp\\ipykernel_7800\\2323365512.py:4: SettingWithCopyWarning: \n",
      "A value is trying to be set on a copy of a slice from a DataFrame\n",
      "\n",
      "See the caveats in the documentation: https://pandas.pydata.org/pandas-docs/stable/user_guide/indexing.html#returning-a-view-versus-a-copy\n",
      "  merge_clean_df.name[merge_clean_df.name == Xname] = 'NaN'\n",
      "C:\\Users\\User\\AppData\\Local\\Temp\\ipykernel_7800\\2323365512.py:4: SettingWithCopyWarning: \n",
      "A value is trying to be set on a copy of a slice from a DataFrame\n",
      "\n",
      "See the caveats in the documentation: https://pandas.pydata.org/pandas-docs/stable/user_guide/indexing.html#returning-a-view-versus-a-copy\n",
      "  merge_clean_df.name[merge_clean_df.name == Xname] = 'NaN'\n",
      "C:\\Users\\User\\AppData\\Local\\Temp\\ipykernel_7800\\2323365512.py:4: SettingWithCopyWarning: \n",
      "A value is trying to be set on a copy of a slice from a DataFrame\n",
      "\n",
      "See the caveats in the documentation: https://pandas.pydata.org/pandas-docs/stable/user_guide/indexing.html#returning-a-view-versus-a-copy\n",
      "  merge_clean_df.name[merge_clean_df.name == Xname] = 'NaN'\n",
      "C:\\Users\\User\\AppData\\Local\\Temp\\ipykernel_7800\\2323365512.py:4: SettingWithCopyWarning: \n",
      "A value is trying to be set on a copy of a slice from a DataFrame\n",
      "\n",
      "See the caveats in the documentation: https://pandas.pydata.org/pandas-docs/stable/user_guide/indexing.html#returning-a-view-versus-a-copy\n",
      "  merge_clean_df.name[merge_clean_df.name == Xname] = 'NaN'\n",
      "C:\\Users\\User\\AppData\\Local\\Temp\\ipykernel_7800\\2323365512.py:4: SettingWithCopyWarning: \n",
      "A value is trying to be set on a copy of a slice from a DataFrame\n",
      "\n",
      "See the caveats in the documentation: https://pandas.pydata.org/pandas-docs/stable/user_guide/indexing.html#returning-a-view-versus-a-copy\n",
      "  merge_clean_df.name[merge_clean_df.name == Xname] = 'NaN'\n"
     ]
    }
   ],
   "source": [
    "NameList= ['None','a','an','mad','his','this','not','old', 'my', 'such', 'actually', 'all', 'by', 'getting', 'incredibly',\n",
    "           'just', 'infuriating', 'life', 'light', 'one', 'quite', 'space','unacceptable', 'very', 'the', 'officially']\n",
    "for Xname in NameList:    \n",
    "     merge_clean_df.name[merge_clean_df.name == Xname] = 'NaN'"
   ]
  },
  {
   "cell_type": "markdown",
   "metadata": {},
   "source": [
    "#### Test"
   ]
  },
  {
   "cell_type": "code",
   "execution_count": 55,
   "metadata": {},
   "outputs": [
    {
     "data": {
      "text/plain": [
       "NaN           644\n",
       "Charlie        11\n",
       "Cooper         10\n",
       "Lucy           10\n",
       "Oliver         10\n",
       "             ... \n",
       "Leela           1\n",
       "Glenn           1\n",
       "Shelby          1\n",
       "Sephie          1\n",
       "Christoper      1\n",
       "Name: name, Length: 914, dtype: int64"
      ]
     },
     "execution_count": 55,
     "metadata": {},
     "output_type": "execute_result"
    }
   ],
   "source": [
    "merge_clean_df.name.value_counts()"
   ]
  },
  {
   "cell_type": "code",
   "execution_count": 56,
   "metadata": {},
   "outputs": [
    {
     "data": {
      "text/plain": [
       "array(['Abby', 'Ace', 'Acro', 'Adele', 'Aiden', 'Aja', 'Akumi', 'Al',\n",
       "       'Albert', 'Albus', 'Aldrick', 'Alejandro', 'Alexander',\n",
       "       'Alexanderson', 'Alf', 'Alfie', 'Alfy', 'Alice', 'Amber',\n",
       "       'Ambrose', 'Amy', 'Amélie', 'Anakin', 'Andru', 'Andy', 'Angel',\n",
       "       'Anna', 'Anthony', 'Antony', 'Apollo', 'Aqua', 'Archie', 'Arlen',\n",
       "       'Arlo', 'Arnie', 'Arnold', 'Arya', 'Ash', 'Asher', 'Ashleigh',\n",
       "       'Aspen', 'Astrid', 'Atlas', 'Atticus', 'Aubie', 'Augie', 'Autumn',\n",
       "       'Ava', 'Axel', 'Bailey', 'Baloo', 'Banditt', 'Banjo', 'Barclay',\n",
       "       'Barney', 'Baron', 'Batdog', 'Bauer', 'Baxter', 'Bayley', 'BeBe',\n",
       "       'Bear', 'Beau', 'Beckham', 'Beebop', 'Beemo', 'Bell', 'Bella',\n",
       "       'Belle', 'Ben', 'Benedict', 'Benji', 'Benny', 'Bentley', 'Berb',\n",
       "       'Berkeley', 'Bernie', 'Bert', 'Bertson', 'Betty', 'Beya', 'Biden',\n",
       "       'Bilbo', 'Billl', 'Billy', 'Binky', 'Birf', 'Bisquick', 'Blakely',\n",
       "       'Blanket', 'Blipson', 'Blitz', 'Bloo', 'Bloop', 'Blu', 'Blue',\n",
       "       'Bluebert', 'Bo', 'Bob', 'Bobb', 'Bobbay', 'Bobble', 'Bobby',\n",
       "       'Bode', 'Bodie', 'Bonaparte', 'Bones', 'Bookstore', 'Boomer',\n",
       "       'Boots', 'Boston', 'Bowie', 'Brad', 'Bradlay', 'Bradley', 'Brady',\n",
       "       'Brandi', 'Brandonald', 'Brandy', 'Brat', 'Brian', 'Brockly',\n",
       "       'Brody', 'Bronte', 'Brooks', 'Brownie', 'Bruce', 'Brudge',\n",
       "       'Bruiser', 'Bruno', 'Brutus', 'Bubba', 'Bubbles', 'Buckley',\n",
       "       'Buddah', 'Buddy', 'Bungalo', 'Burt', 'Butter', 'Butters', 'Cal',\n",
       "       'Calbert', 'Cali', 'Callie', 'Calvin', 'Canela', 'Cannon',\n",
       "       'Carbon', 'Carl', 'Carll', 'Carly', 'Carper', 'Carter', 'Caryl',\n",
       "       'Cash', 'Cassie', 'CeCe', 'Cecil', 'Cedrick', 'Cermet', 'Chadrick',\n",
       "       'Champ', 'Charl', 'Charles', 'Charleson', 'Charlie', 'Chase',\n",
       "       'Chaz', 'Cheesy', 'Chef', 'Chelsea', 'Cheryl', 'Chesney',\n",
       "       'Chester', 'Chesterson', 'Chet', 'Chevy', 'Chip', 'Chipson',\n",
       "       'Chloe', 'Chompsky', 'Christoper', 'Chubbs', 'Chuck', 'Chuckles',\n",
       "       'Chuq', 'Churlie', 'Cilantro', 'Clarence', 'Clark', 'Clarkus',\n",
       "       'Clarq', 'Claude', 'Cleopatricia', 'Clifford', 'Clybe', 'Clyde',\n",
       "       'Coco', 'Cody', 'Colby', 'Coleman', 'Colin', 'Comet', 'Cooper',\n",
       "       'Coops', 'Coopson', 'Cora', 'Corey', 'Covach', 'Craig', 'Crawford',\n",
       "       'Creg', 'Crimson', 'Crouton', 'Crumpet', 'Crystal', 'Cuddles',\n",
       "       'Cupcake', 'Cupid', 'Curtis', 'Daisy', 'Dakota', 'Dale', 'Dallas',\n",
       "       'Damon', 'Daniel', 'Danny', 'Dante', 'Darby', 'Darla', 'Darrel',\n",
       "       'Dash', 'Dave', 'Davey', 'Dawn', 'DayZ', 'Deacon', 'Derby',\n",
       "       'Derek', 'Devón', 'Dewey', 'Dex', 'Dexter', 'Dido', 'Dietrich',\n",
       "       'Diogi', 'Divine', 'Dixie', 'Django', 'Dobby', 'Doc', 'DonDon',\n",
       "       'Donny', 'Doobert', 'Dook', 'Dot', 'Dotsy', 'Doug', 'Duchess',\n",
       "       'Duddles', 'Dudley', 'Dug', 'Duke', 'Dunkin', 'Durg', 'Dutch',\n",
       "       'Dwight', 'Dylan', 'Earl', 'Eazy', 'Ebby', 'Ed', 'Edd', 'Edgar',\n",
       "       'Edmund', 'Eevee', 'Einstein', 'Eleanor', 'Eli', 'Ellie', 'Elliot',\n",
       "       'Emanuel', 'Emma', 'Emmie', 'Emmy', 'Enchilada', 'Erik', 'Eriq',\n",
       "       'Ester', 'Eugene', 'Eve', 'Evy', 'Fabio', 'Farfle', 'Fido', 'Fiji',\n",
       "       'Fillup', 'Filup', 'Finley', 'Finn', 'Finnegus', 'Fiona', 'Fizz',\n",
       "       'Flash', 'Fletcher', 'Florence', 'Flurpson', 'Flávio', 'Frank',\n",
       "       'Frankie', 'Franklin', 'Franq', 'Fred', 'Freddery', 'Frönq',\n",
       "       'Furzey', 'Fwed', 'Fynn', 'Gabe', 'Gary', 'General', 'Genevieve',\n",
       "       'Geno', 'Geoff', 'George', 'Georgie', 'Gerald', 'Gerbald', 'Gert',\n",
       "       'Gidget', 'Gilbert', 'Gin', 'Ginger', 'Gizmo', 'Glacier', 'Glenn',\n",
       "       'Godi', 'Godzilla', 'Goliath', 'Goose', 'Gordon', 'Grady', 'Grey',\n",
       "       'Griffin', 'Griswold', 'Grizz', 'Grizzie', 'Grizzwald', 'Gromit',\n",
       "       'Gunner', 'Gus', 'Gustaf', 'Gustav', 'Gòrdón', 'Hall', 'Halo',\n",
       "       'Hammond', 'Hamrick', 'Hank', 'Hanz', 'Happy', 'Harlso', 'Harnold',\n",
       "       'Harold', 'Harper', 'Harrison', 'Harry', 'Harvey', 'Hazel',\n",
       "       'Hector', 'Heinrich', 'Henry', 'Herald', 'Herb', 'Hercules',\n",
       "       'Herm', 'Hermione', 'Hero', 'Herschel', 'Hobbes', 'Holly',\n",
       "       'Horace', 'Howie', 'Hubertson', 'Huck', 'Humphrey', 'Hunter',\n",
       "       'Hurley', 'Huxley', 'Iggy', 'Ike', 'Indie', 'Iroh', 'Ito', 'Ivar',\n",
       "       'JD', 'Jack', 'Jackie', 'Jackson', 'Jameson', 'Jamesy', 'Jangle',\n",
       "       'Jareld', 'Jarod', 'Jarvis', 'Jaspers', 'Jax', 'Jay', 'Jaycob',\n",
       "       'Jazz', 'Jazzy', 'Jeb', 'Jebberson', 'Jed', 'Jeffrey', 'Jeffri',\n",
       "       'Jeffrie', 'Jennifur', 'Jeph', 'Jeremy', 'Jerome', 'Jerry',\n",
       "       'Jersey', 'Jesse', 'Jessifer', 'Jessiga', 'Jett', 'Jim', 'Jimbo',\n",
       "       'Jiminus', 'Jiminy', 'Jimison', 'Jimothy', 'Jo', 'Jockson', 'Joey',\n",
       "       'Jomathan', 'Jonah', 'Jordy', 'Josep', 'Joshwa', 'Juckson',\n",
       "       'Julio', 'Julius', 'Juno', 'Kaia', 'Kaiya', 'Kallie', 'Kane',\n",
       "       'Kanu', 'Kara', 'Karl', 'Karll', 'Karma', 'Kathmandu', 'Katie',\n",
       "       'Kawhi', 'Kayla', 'Keet', 'Keith', 'Kellogg', 'Ken', 'Kendall',\n",
       "       'Kenneth', 'Kenny', 'Kenzie', 'Keurig', 'Kevin', 'Kevon', 'Kial',\n",
       "       'Kilo', 'Kingsley', 'Kirby', 'Kirk', 'Klein', 'Klevin', 'Kloey',\n",
       "       'Kobe', 'Koda', 'Kody', 'Koko', 'Kollin', 'Kona', 'Kota', 'Kramer',\n",
       "       'Kreg', 'Kreggory', 'Kulet', 'Kuyu', 'Kyle', 'Kyro', 'Lacy',\n",
       "       'Laela', 'Laika', 'Lambeau', 'Lance', 'Larry', 'Lassie', 'Layla',\n",
       "       'Leela', 'Lennon', 'Lenny', 'Lenox', 'Leo', 'Leonard', 'Leonidas',\n",
       "       'Levi', 'Liam', 'Lilah', 'Lili', 'Lilli', 'Lillie', 'Lilly',\n",
       "       'Lily', 'Lincoln', 'Linda', 'Link', 'Lipton', 'Livvie', 'Lizzie',\n",
       "       'Logan', 'Loki', 'Lola', 'Lolo', 'Longfellow', 'Loomis', 'Lorelei',\n",
       "       'Lorenzo', 'Lou', 'Louie', 'Louis', 'Luca', 'Lucia', 'Lucky',\n",
       "       'Lucy', 'Lugan', 'Lulu', 'Luna', 'Lupe', 'Luther', 'Mabel', 'Mac',\n",
       "       'Mack', 'Maddie', 'Maggie', 'Mairi', 'Maisey', 'Major', 'Maks',\n",
       "       'Malcolm', 'Malikai', 'Margo', 'Mark', 'Marlee', 'Marley', 'Marq',\n",
       "       'Marty', 'Marvin', 'Mary', 'Mason', 'Mattie', 'Maude', 'Mauve',\n",
       "       'Max', 'Maxaroni', 'Maximus', 'Maxwell', 'Maya', 'Meatball',\n",
       "       'Meera', 'Meyer', 'Mia', 'Michelangelope', 'Miguel', 'Mike',\n",
       "       'Miley', 'Milky', 'Millie', 'Milo', 'Mimosa', 'Mingus', 'Mister',\n",
       "       'Misty', 'Mitch', 'Mo', 'Moe', 'Mojo', 'Mollie', 'Molly', 'Mona',\n",
       "       'Monkey', 'Monster', 'Monty', 'Moofasa', 'Mookie', 'Moose',\n",
       "       'Moreton', 'Mosby', 'Murphy', 'Mutt', 'Mya', 'NaN', 'Nala',\n",
       "       'Naphaniel', 'Napolean', 'Nelly', 'Neptune', 'Newt', 'Nico',\n",
       "       'Nida', 'Nigel', 'Nimbus', 'Noah', 'Nollie', 'Noosh', 'Norman',\n",
       "       'Nugget', 'O', 'Oakley', 'Obi', 'Obie', 'Odie', 'Odin', 'Olaf',\n",
       "       'Ole', 'Olive', 'Oliver', 'Olivia', 'Oliviér', 'Ollie', 'Opal',\n",
       "       'Opie', 'Oreo', 'Orion', 'Oscar', 'Oshie', 'Otis', 'Ozzie', 'Ozzy',\n",
       "       'Pablo', 'Paisley', 'Pancake', 'Panda', 'Patch', 'Patrick',\n",
       "       'Paull', 'Pavlov', 'Pawnd', 'Peaches', 'Peanut', 'Penelope',\n",
       "       'Penny', 'Pepper', 'Percy', 'Perry', 'Pete', 'Petrick', 'Phil',\n",
       "       'Philbert', 'Philippe', 'Phineas', 'Phred', 'Pickles', 'Pilot',\n",
       "       'Pinot', 'Pip', 'Piper', 'Pippa', 'Pippin', 'Pipsy', 'Pluto',\n",
       "       'Poppy', 'Pubert', 'Puff', 'Pumpkin', 'Pupcasso', 'Quinn', 'Ralf',\n",
       "       'Ralph', 'Ralpher', 'Ralphie', 'Ralphson', 'Ralphus', 'Ralphé',\n",
       "       'Rambo', 'Randall', 'Raphael', 'Raymond', 'Reagan', 'Reese',\n",
       "       'Reggie', 'Reginald', 'Remington', 'Remus', 'Remy', 'Reptar',\n",
       "       'Rey', 'Rhino', 'Richie', 'Ricky', 'Ridley', 'Riley', 'Rilo',\n",
       "       'Rinna', 'River', 'Rizzo', 'Rizzy', 'Robin', 'Rocco', 'Rocky',\n",
       "       'Rodman', 'Rodney', 'Rolf', 'Romeo', 'Ron', 'Ronduh', 'Ronnie',\n",
       "       'Rontu', 'Rooney', 'Roosevelt', 'Rorie', 'Rory', 'Roscoe', 'Rose',\n",
       "       'Rosie', 'Rover', 'Rubio', 'Ruby', 'Rueben', 'Ruffles', 'Rufio',\n",
       "       'Rufus', 'Rumble', 'Rumpole', 'Rupert', 'Rusty', 'Sadie', 'Sage',\n",
       "       'Sailer', 'Sailor', 'Sam', 'Sammy', 'Sampson', 'Samsom', 'Samson',\n",
       "       'Sandra', 'Sandy', 'Sansa', 'Sarge', 'Saydee', 'Schnitzel',\n",
       "       'Schnozz', 'Scooter', 'Scott', 'Scout', 'Scruffers', 'Sebastian',\n",
       "       'Sephie', 'Severus', 'Shadoe', 'Shadow', 'Shaggy', 'Shakespeare',\n",
       "       'Shawwn', 'Shelby', 'Shikha', 'Shiloh', 'Shnuggles', 'Shooter',\n",
       "       'Siba', 'Sid', 'Sierra', 'Simba', 'Skittles', 'Sky', 'Skye',\n",
       "       'Smiley', 'Smokey', 'Snickers', 'Snicku', 'Snoop', 'Snoopy',\n",
       "       'Sobe', 'Socks', 'Sojourner', 'Solomon', 'Sonny', 'Sophie', 'Sora',\n",
       "       'Spanky', 'Spark', 'Sparky', 'Spencer', 'Sprinkles', 'Sprout',\n",
       "       'Staniel', 'Stanley', 'Stark', 'Stefan', 'Stella', 'Stephan',\n",
       "       'Stephanus', 'Steve', 'Steven', 'Stewie', 'Storkson', 'Stormy',\n",
       "       'Strider', 'Striker', 'Strudel', 'Stu', 'Stuart', 'Stubert',\n",
       "       'Sugar', 'Suki', 'Sully', 'Sundance', 'Sunny', 'Sunshine',\n",
       "       'Superpup', 'Swagger', 'Sweet', 'Taco', 'Tango', 'Tanner', 'Tassy',\n",
       "       'Tater', 'Tayzie', 'Taz', 'Tebow', 'Ted', 'Tedders', 'Tedrick',\n",
       "       'Terrance', 'Terrenth', 'Terry', 'Tess', 'Tessa', 'Theo',\n",
       "       'Theodore', 'Thor', 'Thumas', 'Tiger', 'Tilly', 'Timber',\n",
       "       'Timison', 'Timmy', 'Timofy', 'Tino', 'Titan', 'Tito', 'Tobi',\n",
       "       'Toby', 'Todo', 'Toffee', 'Tom', 'Tommy', 'Tonks', 'Torque',\n",
       "       'Tove', 'Travis', 'Traviss', 'Trevith', 'Trigger', 'Trip', 'Tripp',\n",
       "       'Trooper', 'Tuck', 'Tucker', 'Tuco', 'Tug', 'Tupawc', 'Tycho',\n",
       "       'Tyr', 'Tyrone', 'Tyrus', 'Ulysses', 'Venti', 'Vince', 'Vincent',\n",
       "       'Vinnie', 'Vinscent', 'Vixen', 'Wafer', 'Waffles', 'Walker',\n",
       "       'Wallace', 'Wally', 'Walter', 'Watson', 'Wesley', 'Wiggles',\n",
       "       'Willem', 'William', 'Willie', 'Willow', 'Willy', 'Wilson',\n",
       "       'Winifred', 'Winnie', 'Winston', 'Wishes', 'Wyatt', 'Yoda', 'Yogi',\n",
       "       'Zara', 'Zeek', 'Zeke', 'Zeus', 'Ziva', 'Zoe', 'Zoey', 'Zooey',\n",
       "       'Zuzu'], dtype=object)"
      ]
     },
     "execution_count": 56,
     "metadata": {},
     "output_type": "execute_result"
    }
   ],
   "source": [
    "names = merge_clean_df['name'].unique()\n",
    "names.sort()\n",
    "names"
   ]
  },
  {
   "cell_type": "markdown",
   "metadata": {},
   "source": [
    "### Issue #9: there's 4 columns should be merged in one column as dog stage:\n",
    "### Issue #10: replace the None for these 4 columns into NaN"
   ]
  },
  {
   "cell_type": "markdown",
   "metadata": {},
   "source": [
    "#### Define: The dog stages are divided into 4 columns which are \"doggo, floofer, pupper or puppo\" nested of combined as one column and replace the None's to NaN."
   ]
  },
  {
   "cell_type": "markdown",
   "metadata": {},
   "source": [
    "#### Code"
   ]
  },
  {
   "cell_type": "code",
   "execution_count": 57,
   "metadata": {},
   "outputs": [],
   "source": [
    "merge_clean_df['dog_stage'] = merge_clean_df['text'].str.extract('(doggo|pupper|puppo|floofer)')\n",
    "merge_clean_df = merge_clean_df.drop(['doggo', 'pupper', 'puppo', 'floofer'], axis=1)"
   ]
  },
  {
   "cell_type": "markdown",
   "metadata": {},
   "source": [
    "#### Test"
   ]
  },
  {
   "cell_type": "code",
   "execution_count": 58,
   "metadata": {},
   "outputs": [
    {
     "data": {
      "text/html": [
       "<div>\n",
       "<style scoped>\n",
       "    .dataframe tbody tr th:only-of-type {\n",
       "        vertical-align: middle;\n",
       "    }\n",
       "\n",
       "    .dataframe tbody tr th {\n",
       "        vertical-align: top;\n",
       "    }\n",
       "\n",
       "    .dataframe thead th {\n",
       "        text-align: right;\n",
       "    }\n",
       "</style>\n",
       "<table border=\"1\" class=\"dataframe\">\n",
       "  <thead>\n",
       "    <tr style=\"text-align: right;\">\n",
       "      <th></th>\n",
       "      <th>tweet_id</th>\n",
       "      <th>timestamp</th>\n",
       "      <th>source</th>\n",
       "      <th>text</th>\n",
       "      <th>expanded_urls</th>\n",
       "      <th>rating_numerator</th>\n",
       "      <th>rating_denominator</th>\n",
       "      <th>name</th>\n",
       "      <th>retweets</th>\n",
       "      <th>favorites</th>\n",
       "      <th>...</th>\n",
       "      <th>p1</th>\n",
       "      <th>p1_conf</th>\n",
       "      <th>p1_dog</th>\n",
       "      <th>p2</th>\n",
       "      <th>p2_conf</th>\n",
       "      <th>p2_dog</th>\n",
       "      <th>p3</th>\n",
       "      <th>p3_conf</th>\n",
       "      <th>p3_dog</th>\n",
       "      <th>dog_stage</th>\n",
       "    </tr>\n",
       "  </thead>\n",
       "  <tbody>\n",
       "    <tr>\n",
       "      <th>0</th>\n",
       "      <td>892420643555336193</td>\n",
       "      <td>2017-08-01 16:23:56+00:00</td>\n",
       "      <td>&lt;a href=\"http://twitter.com/download/iphone\" r...</td>\n",
       "      <td>This is Phineas. He's a mystical boy. Only eve...</td>\n",
       "      <td>https://twitter.com/dog_rates/status/892420643...</td>\n",
       "      <td>13</td>\n",
       "      <td>10</td>\n",
       "      <td>Phineas</td>\n",
       "      <td>8853</td>\n",
       "      <td>39467</td>\n",
       "      <td>...</td>\n",
       "      <td>orange</td>\n",
       "      <td>0.097049</td>\n",
       "      <td>False</td>\n",
       "      <td>bagel</td>\n",
       "      <td>0.085851</td>\n",
       "      <td>False</td>\n",
       "      <td>banana</td>\n",
       "      <td>0.076110</td>\n",
       "      <td>False</td>\n",
       "      <td>NaN</td>\n",
       "    </tr>\n",
       "    <tr>\n",
       "      <th>1</th>\n",
       "      <td>892177421306343426</td>\n",
       "      <td>2017-08-01 00:17:27+00:00</td>\n",
       "      <td>&lt;a href=\"http://twitter.com/download/iphone\" r...</td>\n",
       "      <td>This is Tilly. She's just checking pup on you....</td>\n",
       "      <td>https://twitter.com/dog_rates/status/892177421...</td>\n",
       "      <td>13</td>\n",
       "      <td>10</td>\n",
       "      <td>Tilly</td>\n",
       "      <td>6514</td>\n",
       "      <td>33819</td>\n",
       "      <td>...</td>\n",
       "      <td>Chihuahua</td>\n",
       "      <td>0.323581</td>\n",
       "      <td>True</td>\n",
       "      <td>Pekinese</td>\n",
       "      <td>0.090647</td>\n",
       "      <td>True</td>\n",
       "      <td>papillon</td>\n",
       "      <td>0.068957</td>\n",
       "      <td>True</td>\n",
       "      <td>NaN</td>\n",
       "    </tr>\n",
       "    <tr>\n",
       "      <th>2</th>\n",
       "      <td>891815181378084864</td>\n",
       "      <td>2017-07-31 00:18:03+00:00</td>\n",
       "      <td>&lt;a href=\"http://twitter.com/download/iphone\" r...</td>\n",
       "      <td>This is Archie. He is a rare Norwegian Pouncin...</td>\n",
       "      <td>https://twitter.com/dog_rates/status/891815181...</td>\n",
       "      <td>12</td>\n",
       "      <td>10</td>\n",
       "      <td>Archie</td>\n",
       "      <td>4328</td>\n",
       "      <td>25461</td>\n",
       "      <td>...</td>\n",
       "      <td>Chihuahua</td>\n",
       "      <td>0.716012</td>\n",
       "      <td>True</td>\n",
       "      <td>malamute</td>\n",
       "      <td>0.078253</td>\n",
       "      <td>True</td>\n",
       "      <td>kelpie</td>\n",
       "      <td>0.031379</td>\n",
       "      <td>True</td>\n",
       "      <td>NaN</td>\n",
       "    </tr>\n",
       "    <tr>\n",
       "      <th>3</th>\n",
       "      <td>891689557279858688</td>\n",
       "      <td>2017-07-30 15:58:51+00:00</td>\n",
       "      <td>&lt;a href=\"http://twitter.com/download/iphone\" r...</td>\n",
       "      <td>This is Darla. She commenced a snooze mid meal...</td>\n",
       "      <td>https://twitter.com/dog_rates/status/891689557...</td>\n",
       "      <td>13</td>\n",
       "      <td>10</td>\n",
       "      <td>Darla</td>\n",
       "      <td>8964</td>\n",
       "      <td>42908</td>\n",
       "      <td>...</td>\n",
       "      <td>paper_towel</td>\n",
       "      <td>0.170278</td>\n",
       "      <td>False</td>\n",
       "      <td>Labrador_retriever</td>\n",
       "      <td>0.168086</td>\n",
       "      <td>True</td>\n",
       "      <td>spatula</td>\n",
       "      <td>0.040836</td>\n",
       "      <td>False</td>\n",
       "      <td>NaN</td>\n",
       "    </tr>\n",
       "  </tbody>\n",
       "</table>\n",
       "<p>4 rows × 22 columns</p>\n",
       "</div>"
      ],
      "text/plain": [
       "             tweet_id                 timestamp  \\\n",
       "0  892420643555336193 2017-08-01 16:23:56+00:00   \n",
       "1  892177421306343426 2017-08-01 00:17:27+00:00   \n",
       "2  891815181378084864 2017-07-31 00:18:03+00:00   \n",
       "3  891689557279858688 2017-07-30 15:58:51+00:00   \n",
       "\n",
       "                                              source  \\\n",
       "0  <a href=\"http://twitter.com/download/iphone\" r...   \n",
       "1  <a href=\"http://twitter.com/download/iphone\" r...   \n",
       "2  <a href=\"http://twitter.com/download/iphone\" r...   \n",
       "3  <a href=\"http://twitter.com/download/iphone\" r...   \n",
       "\n",
       "                                                text  \\\n",
       "0  This is Phineas. He's a mystical boy. Only eve...   \n",
       "1  This is Tilly. She's just checking pup on you....   \n",
       "2  This is Archie. He is a rare Norwegian Pouncin...   \n",
       "3  This is Darla. She commenced a snooze mid meal...   \n",
       "\n",
       "                                       expanded_urls  rating_numerator  \\\n",
       "0  https://twitter.com/dog_rates/status/892420643...                13   \n",
       "1  https://twitter.com/dog_rates/status/892177421...                13   \n",
       "2  https://twitter.com/dog_rates/status/891815181...                12   \n",
       "3  https://twitter.com/dog_rates/status/891689557...                13   \n",
       "\n",
       "   rating_denominator     name  retweets  favorites  ...           p1  \\\n",
       "0                  10  Phineas      8853      39467  ...       orange   \n",
       "1                  10    Tilly      6514      33819  ...    Chihuahua   \n",
       "2                  10   Archie      4328      25461  ...    Chihuahua   \n",
       "3                  10    Darla      8964      42908  ...  paper_towel   \n",
       "\n",
       "    p1_conf p1_dog                  p2   p2_conf p2_dog        p3   p3_conf  \\\n",
       "0  0.097049  False               bagel  0.085851  False    banana  0.076110   \n",
       "1  0.323581   True            Pekinese  0.090647   True  papillon  0.068957   \n",
       "2  0.716012   True            malamute  0.078253   True    kelpie  0.031379   \n",
       "3  0.170278  False  Labrador_retriever  0.168086   True   spatula  0.040836   \n",
       "\n",
       "  p3_dog  dog_stage  \n",
       "0  False        NaN  \n",
       "1   True        NaN  \n",
       "2   True        NaN  \n",
       "3  False        NaN  \n",
       "\n",
       "[4 rows x 22 columns]"
      ]
     },
     "execution_count": 58,
     "metadata": {},
     "output_type": "execute_result"
    }
   ],
   "source": [
    "merge_clean_df.head(4)"
   ]
  },
  {
   "cell_type": "code",
   "execution_count": 59,
   "metadata": {},
   "outputs": [
    {
     "data": {
      "text/plain": [
       "array([nan, 'doggo', 'puppo', 'pupper', 'floofer'], dtype=object)"
      ]
     },
     "execution_count": 59,
     "metadata": {},
     "output_type": "execute_result"
    }
   ],
   "source": [
    "dog_stages = merge_clean_df['dog_stage'].unique()\n",
    "dog_stages"
   ]
  },
  {
   "cell_type": "markdown",
   "metadata": {},
   "source": [
    "### Issue #11: The source column contain part of HTML code nested of just the source.:"
   ]
  },
  {
   "cell_type": "markdown",
   "metadata": {},
   "source": [
    "#### Define: The source column contain part of HTML code nested of just the source and we will fix it."
   ]
  },
  {
   "cell_type": "markdown",
   "metadata": {},
   "source": [
    "#### Code"
   ]
  },
  {
   "cell_type": "code",
   "execution_count": 60,
   "metadata": {},
   "outputs": [],
   "source": [
    "merge_clean_df.source = merge_clean_df.source.str.extract(\"\\>(.*?)\\<\", expand = True)"
   ]
  },
  {
   "cell_type": "markdown",
   "metadata": {},
   "source": [
    "#### Test"
   ]
  },
  {
   "cell_type": "code",
   "execution_count": 61,
   "metadata": {},
   "outputs": [
    {
     "data": {
      "text/html": [
       "<div>\n",
       "<style scoped>\n",
       "    .dataframe tbody tr th:only-of-type {\n",
       "        vertical-align: middle;\n",
       "    }\n",
       "\n",
       "    .dataframe tbody tr th {\n",
       "        vertical-align: top;\n",
       "    }\n",
       "\n",
       "    .dataframe thead th {\n",
       "        text-align: right;\n",
       "    }\n",
       "</style>\n",
       "<table border=\"1\" class=\"dataframe\">\n",
       "  <thead>\n",
       "    <tr style=\"text-align: right;\">\n",
       "      <th></th>\n",
       "      <th>tweet_id</th>\n",
       "      <th>timestamp</th>\n",
       "      <th>source</th>\n",
       "      <th>text</th>\n",
       "      <th>expanded_urls</th>\n",
       "      <th>rating_numerator</th>\n",
       "      <th>rating_denominator</th>\n",
       "      <th>name</th>\n",
       "      <th>retweets</th>\n",
       "      <th>favorites</th>\n",
       "      <th>...</th>\n",
       "      <th>p1</th>\n",
       "      <th>p1_conf</th>\n",
       "      <th>p1_dog</th>\n",
       "      <th>p2</th>\n",
       "      <th>p2_conf</th>\n",
       "      <th>p2_dog</th>\n",
       "      <th>p3</th>\n",
       "      <th>p3_conf</th>\n",
       "      <th>p3_dog</th>\n",
       "      <th>dog_stage</th>\n",
       "    </tr>\n",
       "  </thead>\n",
       "  <tbody>\n",
       "    <tr>\n",
       "      <th>0</th>\n",
       "      <td>892420643555336193</td>\n",
       "      <td>2017-08-01 16:23:56+00:00</td>\n",
       "      <td>Twitter for iPhone</td>\n",
       "      <td>This is Phineas. He's a mystical boy. Only eve...</td>\n",
       "      <td>https://twitter.com/dog_rates/status/892420643...</td>\n",
       "      <td>13</td>\n",
       "      <td>10</td>\n",
       "      <td>Phineas</td>\n",
       "      <td>8853</td>\n",
       "      <td>39467</td>\n",
       "      <td>...</td>\n",
       "      <td>orange</td>\n",
       "      <td>0.097049</td>\n",
       "      <td>False</td>\n",
       "      <td>bagel</td>\n",
       "      <td>0.085851</td>\n",
       "      <td>False</td>\n",
       "      <td>banana</td>\n",
       "      <td>0.076110</td>\n",
       "      <td>False</td>\n",
       "      <td>NaN</td>\n",
       "    </tr>\n",
       "    <tr>\n",
       "      <th>1</th>\n",
       "      <td>892177421306343426</td>\n",
       "      <td>2017-08-01 00:17:27+00:00</td>\n",
       "      <td>Twitter for iPhone</td>\n",
       "      <td>This is Tilly. She's just checking pup on you....</td>\n",
       "      <td>https://twitter.com/dog_rates/status/892177421...</td>\n",
       "      <td>13</td>\n",
       "      <td>10</td>\n",
       "      <td>Tilly</td>\n",
       "      <td>6514</td>\n",
       "      <td>33819</td>\n",
       "      <td>...</td>\n",
       "      <td>Chihuahua</td>\n",
       "      <td>0.323581</td>\n",
       "      <td>True</td>\n",
       "      <td>Pekinese</td>\n",
       "      <td>0.090647</td>\n",
       "      <td>True</td>\n",
       "      <td>papillon</td>\n",
       "      <td>0.068957</td>\n",
       "      <td>True</td>\n",
       "      <td>NaN</td>\n",
       "    </tr>\n",
       "    <tr>\n",
       "      <th>2</th>\n",
       "      <td>891815181378084864</td>\n",
       "      <td>2017-07-31 00:18:03+00:00</td>\n",
       "      <td>Twitter for iPhone</td>\n",
       "      <td>This is Archie. He is a rare Norwegian Pouncin...</td>\n",
       "      <td>https://twitter.com/dog_rates/status/891815181...</td>\n",
       "      <td>12</td>\n",
       "      <td>10</td>\n",
       "      <td>Archie</td>\n",
       "      <td>4328</td>\n",
       "      <td>25461</td>\n",
       "      <td>...</td>\n",
       "      <td>Chihuahua</td>\n",
       "      <td>0.716012</td>\n",
       "      <td>True</td>\n",
       "      <td>malamute</td>\n",
       "      <td>0.078253</td>\n",
       "      <td>True</td>\n",
       "      <td>kelpie</td>\n",
       "      <td>0.031379</td>\n",
       "      <td>True</td>\n",
       "      <td>NaN</td>\n",
       "    </tr>\n",
       "    <tr>\n",
       "      <th>3</th>\n",
       "      <td>891689557279858688</td>\n",
       "      <td>2017-07-30 15:58:51+00:00</td>\n",
       "      <td>Twitter for iPhone</td>\n",
       "      <td>This is Darla. She commenced a snooze mid meal...</td>\n",
       "      <td>https://twitter.com/dog_rates/status/891689557...</td>\n",
       "      <td>13</td>\n",
       "      <td>10</td>\n",
       "      <td>Darla</td>\n",
       "      <td>8964</td>\n",
       "      <td>42908</td>\n",
       "      <td>...</td>\n",
       "      <td>paper_towel</td>\n",
       "      <td>0.170278</td>\n",
       "      <td>False</td>\n",
       "      <td>Labrador_retriever</td>\n",
       "      <td>0.168086</td>\n",
       "      <td>True</td>\n",
       "      <td>spatula</td>\n",
       "      <td>0.040836</td>\n",
       "      <td>False</td>\n",
       "      <td>NaN</td>\n",
       "    </tr>\n",
       "  </tbody>\n",
       "</table>\n",
       "<p>4 rows × 22 columns</p>\n",
       "</div>"
      ],
      "text/plain": [
       "             tweet_id                 timestamp              source  \\\n",
       "0  892420643555336193 2017-08-01 16:23:56+00:00  Twitter for iPhone   \n",
       "1  892177421306343426 2017-08-01 00:17:27+00:00  Twitter for iPhone   \n",
       "2  891815181378084864 2017-07-31 00:18:03+00:00  Twitter for iPhone   \n",
       "3  891689557279858688 2017-07-30 15:58:51+00:00  Twitter for iPhone   \n",
       "\n",
       "                                                text  \\\n",
       "0  This is Phineas. He's a mystical boy. Only eve...   \n",
       "1  This is Tilly. She's just checking pup on you....   \n",
       "2  This is Archie. He is a rare Norwegian Pouncin...   \n",
       "3  This is Darla. She commenced a snooze mid meal...   \n",
       "\n",
       "                                       expanded_urls  rating_numerator  \\\n",
       "0  https://twitter.com/dog_rates/status/892420643...                13   \n",
       "1  https://twitter.com/dog_rates/status/892177421...                13   \n",
       "2  https://twitter.com/dog_rates/status/891815181...                12   \n",
       "3  https://twitter.com/dog_rates/status/891689557...                13   \n",
       "\n",
       "   rating_denominator     name  retweets  favorites  ...           p1  \\\n",
       "0                  10  Phineas      8853      39467  ...       orange   \n",
       "1                  10    Tilly      6514      33819  ...    Chihuahua   \n",
       "2                  10   Archie      4328      25461  ...    Chihuahua   \n",
       "3                  10    Darla      8964      42908  ...  paper_towel   \n",
       "\n",
       "    p1_conf p1_dog                  p2   p2_conf p2_dog        p3   p3_conf  \\\n",
       "0  0.097049  False               bagel  0.085851  False    banana  0.076110   \n",
       "1  0.323581   True            Pekinese  0.090647   True  papillon  0.068957   \n",
       "2  0.716012   True            malamute  0.078253   True    kelpie  0.031379   \n",
       "3  0.170278  False  Labrador_retriever  0.168086   True   spatula  0.040836   \n",
       "\n",
       "  p3_dog  dog_stage  \n",
       "0  False        NaN  \n",
       "1   True        NaN  \n",
       "2   True        NaN  \n",
       "3  False        NaN  \n",
       "\n",
       "[4 rows x 22 columns]"
      ]
     },
     "execution_count": 61,
     "metadata": {},
     "output_type": "execute_result"
    }
   ],
   "source": [
    "merge_clean_df.head(4)"
   ]
  },
  {
   "cell_type": "markdown",
   "metadata": {},
   "source": [
    "### Issue #12:Some columns have underscores instead of white spaces:"
   ]
  },
  {
   "cell_type": "markdown",
   "metadata": {},
   "source": [
    "#### Define: The dog breeding type columns (p1, p2, p3) have underscores instead of white spaces."
   ]
  },
  {
   "cell_type": "markdown",
   "metadata": {},
   "source": [
    "#### Code"
   ]
  },
  {
   "cell_type": "code",
   "execution_count": 62,
   "metadata": {},
   "outputs": [],
   "source": [
    "merge_clean_df.p1 = merge_clean_df.p1.str.replace(\"_\", \" \")"
   ]
  },
  {
   "cell_type": "code",
   "execution_count": 63,
   "metadata": {},
   "outputs": [],
   "source": [
    "merge_clean_df.p2 = merge_clean_df.p2.str.replace(\"_\", \" \")"
   ]
  },
  {
   "cell_type": "code",
   "execution_count": 64,
   "metadata": {},
   "outputs": [],
   "source": [
    "merge_clean_df.p3 = merge_clean_df.p3.str.replace(\"_\", \" \")"
   ]
  },
  {
   "cell_type": "markdown",
   "metadata": {},
   "source": [
    "#### Test"
   ]
  },
  {
   "cell_type": "code",
   "execution_count": 65,
   "metadata": {},
   "outputs": [
    {
     "data": {
      "text/plain": [
       "golden retriever      139\n",
       "Labrador retriever     95\n",
       "Pembroke               88\n",
       "Chihuahua              79\n",
       "pug                    54\n",
       "                     ... \n",
       "nail                    1\n",
       "timber wolf             1\n",
       "espresso                1\n",
       "bib                     1\n",
       "desktop computer        1\n",
       "Name: p1, Length: 374, dtype: int64"
      ]
     },
     "execution_count": 65,
     "metadata": {},
     "output_type": "execute_result"
    }
   ],
   "source": [
    "merge_clean_df.p1.value_counts()"
   ]
  },
  {
   "cell_type": "code",
   "execution_count": 66,
   "metadata": {},
   "outputs": [
    {
     "data": {
      "text/plain": [
       "golden retriever      139\n",
       "Labrador retriever     95\n",
       "Pembroke               88\n",
       "Chihuahua              79\n",
       "pug                    54\n",
       "                     ... \n",
       "nail                    1\n",
       "timber wolf             1\n",
       "espresso                1\n",
       "bib                     1\n",
       "desktop computer        1\n",
       "Name: p1, Length: 374, dtype: int64"
      ]
     },
     "execution_count": 66,
     "metadata": {},
     "output_type": "execute_result"
    }
   ],
   "source": [
    "merge_clean_df.p1.value_counts()"
   ]
  },
  {
   "cell_type": "code",
   "execution_count": 67,
   "metadata": {},
   "outputs": [
    {
     "data": {
      "text/plain": [
       "Labrador retriever    76\n",
       "Chihuahua             57\n",
       "golden retriever      46\n",
       "Eskimo dog            36\n",
       "kelpie                33\n",
       "                      ..\n",
       "passenger car          1\n",
       "bannister              1\n",
       "rotisserie             1\n",
       "hand blower            1\n",
       "partridge              1\n",
       "Name: p3, Length: 405, dtype: int64"
      ]
     },
     "execution_count": 67,
     "metadata": {},
     "output_type": "execute_result"
    }
   ],
   "source": [
    "merge_clean_df.p3.value_counts()"
   ]
  },
  {
   "cell_type": "markdown",
   "metadata": {},
   "source": [
    "## Storing Data\n",
    "Save gathered, assessed, and cleaned master dataset to a CSV file named \"twitter_archive_master.csv\"."
   ]
  },
  {
   "cell_type": "code",
   "execution_count": 68,
   "metadata": {},
   "outputs": [],
   "source": [
    "merge_clean_df.to_csv('twitter_archive_master.csv', index = False)"
   ]
  },
  {
   "cell_type": "markdown",
   "metadata": {},
   "source": [
    "# Analyzing and Visualizing Data\n",
    "In this section, analyze and visualize your wrangled data. You must produce at least **three (3) insights and one (1) visualization.**"
   ]
  },
  {
   "cell_type": "code",
   "execution_count": 69,
   "metadata": {},
   "outputs": [],
   "source": [
    "twitter_archive_master = pd.read_csv(\"twitter_archive_master.csv\")\n",
    "twitter_archive_analyze =twitter_archive_master.copy()"
   ]
  },
  {
   "cell_type": "markdown",
   "metadata": {},
   "source": [
    "### Insight 1: What is the top10 dog breeds per favorites for each algorithm ?\n"
   ]
  },
  {
   "cell_type": "code",
   "execution_count": 70,
   "metadata": {},
   "outputs": [
    {
     "data": {
      "text/html": [
       "<div>\n",
       "<style scoped>\n",
       "    .dataframe tbody tr th:only-of-type {\n",
       "        vertical-align: middle;\n",
       "    }\n",
       "\n",
       "    .dataframe tbody tr th {\n",
       "        vertical-align: top;\n",
       "    }\n",
       "\n",
       "    .dataframe thead th {\n",
       "        text-align: right;\n",
       "    }\n",
       "</style>\n",
       "<table border=\"1\" class=\"dataframe\">\n",
       "  <thead>\n",
       "    <tr style=\"text-align: right;\">\n",
       "      <th></th>\n",
       "      <th>favorites</th>\n",
       "      <th>p1</th>\n",
       "      <th>p2</th>\n",
       "      <th>p3</th>\n",
       "    </tr>\n",
       "  </thead>\n",
       "  <tbody>\n",
       "    <tr>\n",
       "      <th>1849</th>\n",
       "      <td>132810</td>\n",
       "      <td>Lakeland terrier</td>\n",
       "      <td>Labrador retriever</td>\n",
       "      <td>Irish terrier</td>\n",
       "    </tr>\n",
       "    <tr>\n",
       "      <th>1848</th>\n",
       "      <td>131075</td>\n",
       "      <td>Labrador retriever</td>\n",
       "      <td>ice bear</td>\n",
       "      <td>whippet</td>\n",
       "    </tr>\n",
       "    <tr>\n",
       "      <th>1847</th>\n",
       "      <td>107956</td>\n",
       "      <td>English springer</td>\n",
       "      <td>Boston bull</td>\n",
       "      <td>Cardigan</td>\n",
       "    </tr>\n",
       "    <tr>\n",
       "      <th>1846</th>\n",
       "      <td>107015</td>\n",
       "      <td>Chihuahua</td>\n",
       "      <td>Pomeranian</td>\n",
       "      <td>toy terrier</td>\n",
       "    </tr>\n",
       "    <tr>\n",
       "      <th>1845</th>\n",
       "      <td>106827</td>\n",
       "      <td>French bulldog</td>\n",
       "      <td>Boston bull</td>\n",
       "      <td>pug</td>\n",
       "    </tr>\n",
       "    <tr>\n",
       "      <th>1844</th>\n",
       "      <td>95450</td>\n",
       "      <td>standard poodle</td>\n",
       "      <td>toy poodle</td>\n",
       "      <td>Tibetan terrier</td>\n",
       "    </tr>\n",
       "    <tr>\n",
       "      <th>1843</th>\n",
       "      <td>85011</td>\n",
       "      <td>golden retriever</td>\n",
       "      <td>Great Pyrenees</td>\n",
       "      <td>Labrador retriever</td>\n",
       "    </tr>\n",
       "    <tr>\n",
       "      <th>1842</th>\n",
       "      <td>75639</td>\n",
       "      <td>Arabian camel</td>\n",
       "      <td>house finch</td>\n",
       "      <td>cocker spaniel</td>\n",
       "    </tr>\n",
       "    <tr>\n",
       "      <th>1841</th>\n",
       "      <td>75193</td>\n",
       "      <td>Angora</td>\n",
       "      <td>malamute</td>\n",
       "      <td>Persian cat</td>\n",
       "    </tr>\n",
       "    <tr>\n",
       "      <th>1840</th>\n",
       "      <td>75163</td>\n",
       "      <td>Eskimo dog</td>\n",
       "      <td>Siberian husky</td>\n",
       "      <td>malamute</td>\n",
       "    </tr>\n",
       "  </tbody>\n",
       "</table>\n",
       "</div>"
      ],
      "text/plain": [
       "      favorites                  p1                  p2                  p3\n",
       "1849     132810    Lakeland terrier  Labrador retriever       Irish terrier\n",
       "1848     131075  Labrador retriever            ice bear             whippet\n",
       "1847     107956    English springer         Boston bull            Cardigan\n",
       "1846     107015           Chihuahua          Pomeranian         toy terrier\n",
       "1845     106827      French bulldog         Boston bull                 pug\n",
       "1844      95450     standard poodle          toy poodle     Tibetan terrier\n",
       "1843      85011    golden retriever      Great Pyrenees  Labrador retriever\n",
       "1842      75639       Arabian camel         house finch      cocker spaniel\n",
       "1841      75193              Angora            malamute         Persian cat\n",
       "1840      75163          Eskimo dog      Siberian husky            malamute"
      ]
     },
     "execution_count": 70,
     "metadata": {},
     "output_type": "execute_result"
    }
   ],
   "source": [
    "temp = twitter_archive_analyze[[\"p1\",\"p2\",\"p3\",\"favorites\"]].groupby(\"favorites\", as_index = False).sum()\n",
    "breed_per_favorites=temp.sort_values(\"favorites\", ascending = False).head(10)\n",
    "breed_per_favorites"
   ]
  },
  {
   "cell_type": "code",
   "execution_count": 71,
   "metadata": {},
   "outputs": [],
   "source": [
    "def plot(x, y, title=\"\", xlabel=\"\", ylabel=\"\", rotation=0):\n",
    "    plt.figure(figsize=(15,9))\n",
    "    bar_list = plt.barh(x,y)\n",
    "    plt.title(title,fontsize=20)\n",
    "    plt.xlabel(xlabel,fontsize=15)\n",
    "    plt.ylabel(ylabel,fontsize=15)\n",
    "    plt.show()"
   ]
  },
  {
   "cell_type": "code",
   "execution_count": 72,
   "metadata": {},
   "outputs": [
    {
     "data": {
      "image/png": "[encoded data removed]",
      "text/plain": [
       "<Figure size 1080x648 with 1 Axes>"
      ]
     },
     "metadata": {
      "needs_background": "light"
     },
     "output_type": "display_data"
    }
   ],
   "source": [
    "plot(breed_per_favorites.p1,breed_per_favorites.favorites, title=\"top10 of Most favorites per Dogs Breeds\",xlabel=\"favorites\",ylabel=\"p1\")"
   ]
  },
  {
   "cell_type": "code",
   "execution_count": 73,
   "metadata": {},
   "outputs": [
    {
     "data": {
      "image/png": "[encoded data removed]",
      "text/plain": [
       "<Figure size 1080x648 with 1 Axes>"
      ]
     },
     "metadata": {
      "needs_background": "light"
     },
     "output_type": "display_data"
    }
   ],
   "source": [
    "plot(breed_per_favorites.p2,breed_per_favorites.favorites, title=\"top10 of Most favorites per Dogs Breeds\",xlabel=\"favorites\",ylabel=\"p2 Breed\")"
   ]
  },
  {
   "cell_type": "code",
   "execution_count": 74,
   "metadata": {},
   "outputs": [
    {
     "data": {
      "image/png": "[encoded data removed]",
      "text/plain": [
       "<Figure size 1080x648 with 1 Axes>"
      ]
     },
     "metadata": {
      "needs_background": "light"
     },
     "output_type": "display_data"
    }
   ],
   "source": [
    "plot(breed_per_favorites.p3,breed_per_favorites.favorites, title=\"top10 of Most favorites per Dogs Breeds\",xlabel=\"favorites\",ylabel=\"p3 Breed\")"
   ]
  },
  {
   "cell_type": "markdown",
   "metadata": {},
   "source": [
    "### Insight 2: What is the most common dog name for dogs?"
   ]
  },
  {
   "cell_type": "code",
   "execution_count": 75,
   "metadata": {},
   "outputs": [
    {
     "data": {
      "image/png": "[encoded data removed]",
      "text/plain": [
       "<Figure size 1080x648 with 1 Axes>"
      ]
     },
     "metadata": {
      "needs_background": "light"
     },
     "output_type": "display_data"
    }
   ],
   "source": [
    "common_names = twitter_archive_analyze['name'].value_counts().head(15)\n",
    "plot(common_names.index,common_names.values, title=\"number of dog name's\",xlabel=\"Count\",ylabel=\"Name\")"
   ]
  },
  {
   "cell_type": "markdown",
   "metadata": {},
   "source": [
    "### Insight 3: What is the most common dog stage?"
   ]
  },
  {
   "cell_type": "code",
   "execution_count": 76,
   "metadata": {},
   "outputs": [
    {
     "data": {
      "image/png": "[encoded data removed]",
      "text/plain": [
       "<Figure size 1080x648 with 1 Axes>"
      ]
     },
     "metadata": {
      "needs_background": "light"
     },
     "output_type": "display_data"
    }
   ],
   "source": [
    "common_dog_stage = twitter_archive_analyze['dog_stage'].value_counts()\n",
    "plot(common_dog_stage.index,common_dog_stage.values, title=\"dog stage's per number\",xlabel=\"Count\",ylabel=\"dog stage\")"
   ]
  },
  {
   "cell_type": "markdown",
   "metadata": {},
   "source": [
    "### Insight 4: what is the highest rating for dog breed for each of the 3 algorithms?"
   ]
  },
  {
   "cell_type": "code",
   "execution_count": 77,
   "metadata": {},
   "outputs": [
    {
     "data": {
      "image/png": "[encoded data removed]",
      "text/plain": [
       "<Figure size 1080x648 with 1 Axes>"
      ]
     },
     "metadata": {
      "needs_background": "light"
     },
     "output_type": "display_data"
    }
   ],
   "source": [
    "twitter_archive_analyze['rating'] = twitter_archive_analyze['rating_numerator'] / twitter_archive_analyze['rating_denominator']\n",
    "breed_per_rating1=twitter_archive_analyze[[\"p1\", \"rating\"]].sort_values(\"rating\", ascending = False).head(15)\n",
    "plot(breed_per_rating1.p1,breed_per_rating1.rating, title=\"Dog breed by Algorithm p1 per Rating\",xlabel=\"rating\",ylabel=\"dog breed\")"
   ]
  },
  {
   "cell_type": "code",
   "execution_count": 78,
   "metadata": {},
   "outputs": [
    {
     "data": {
      "image/png": "[encoded data removed]",
      "text/plain": [
       "<Figure size 1080x648 with 1 Axes>"
      ]
     },
     "metadata": {
      "needs_background": "light"
     },
     "output_type": "display_data"
    }
   ],
   "source": [
    "breed_per_rating2=twitter_archive_analyze[[\"p2\", \"rating\"]].sort_values(\"rating\", ascending = False).head(15)\n",
    "plot(breed_per_rating2.p2,breed_per_rating2.rating, title=\"Dog breed by Algorithm p2 per Rating\",xlabel=\"rating\",ylabel=\"dog breed\")"
   ]
  },
  {
   "cell_type": "code",
   "execution_count": 79,
   "metadata": {},
   "outputs": [
    {
     "data": {
      "image/png": "[encoded data removed]",
      "text/plain": [
       "<Figure size 1080x648 with 1 Axes>"
      ]
     },
     "metadata": {
      "needs_background": "light"
     },
     "output_type": "display_data"
    }
   ],
   "source": [
    "breed_per_rating3=twitter_archive_analyze[[\"p3\", \"rating\"]].sort_values(\"rating\", ascending = False).head(15)\n",
    "plot(breed_per_rating3.p3,breed_per_rating3.rating, title=\"Dog breed by Algorithm p3 per Rating\",xlabel=\"rating\",ylabel=\"dog breed\")"
   ]
  },
  {
   "cell_type": "markdown",
   "metadata": {},
   "source": [
    "### Insight 5: what is the highest rating for dog stages?"
   ]
  },
  {
   "cell_type": "code",
   "execution_count": 80,
   "metadata": {},
   "outputs": [
    {
     "data": {
      "image/png": "[encoded data removed]",
      "text/plain": [
       "<Figure size 1080x648 with 1 Axes>"
      ]
     },
     "metadata": {
      "needs_background": "light"
     },
     "output_type": "display_data"
    }
   ],
   "source": [
    "twitter_archive_analyze.dropna(subset=['dog_stage'], how='all', inplace=True)\n",
    "dog_stage_per_rating=twitter_archive_analyze[[\"dog_stage\", \"rating\"]].sort_values(\"rating\", ascending = False)\n",
    "plot(dog_stage_per_rating.dog_stage,dog_stage_per_rating.rating, title=\"Dog stage per Rating\",xlabel=\"rating\",ylabel=\"dog stage\")"
   ]
  }
 ],
 "metadata": {
  "extensions": {
   "jupyter_dashboards": {
    "activeView": "report_default",
    "version": 1,
    "views": {
     "grid_default": {
      "cellMargin": 10,
      "defaultCellHeight": 20,
      "maxColumns": 12,
      "name": "grid",
      "type": "grid"
     },
     "report_default": {
      "name": "report",
      "type": "report"
     }
    }
   }
  },
  "kernelspec": {
   "display_name": "Python 3 (ipykernel)",
   "language": "python",
   "name": "python3"
  },
  "language_info": {
   "codemirror_mode": {
    "name": "ipython",
    "version": 3
   },
   "file_extension": ".py",
   "mimetype": "text/x-python",
   "name": "python",
   "nbconvert_exporter": "python",
   "pygments_lexer": "ipython3",
   "version": "3.9.12"
  }
 },
 "nbformat": 4,
 "nbformat_minor": 2
}
